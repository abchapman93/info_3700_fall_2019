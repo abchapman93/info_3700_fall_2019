{
 "cells": [
  {
   "cell_type": "code",
   "execution_count": 1,
   "metadata": {},
   "outputs": [],
   "source": [
    "import pandas as pd\n",
    "import pymysql\n",
    "import getpass"
   ]
  },
  {
   "cell_type": "code",
   "execution_count": 2,
   "metadata": {},
   "outputs": [],
   "source": [
    "import matplotlib.pyplot as plt\n",
    "%matplotlib inline\n",
    "\n",
    "import seaborn as sns\n",
    "sns.set()"
   ]
  },
  {
   "cell_type": "code",
   "execution_count": 3,
   "metadata": {},
   "outputs": [
    {
     "name": "stdout",
     "output_type": "stream",
     "text": [
      "Enter password for MIMIC2 database········\n"
     ]
    }
   ],
   "source": [
    "conn = pymysql.connect(host=\"35.233.174.193\",port=3306,\n",
    "                       user=\"jovyan\",passwd=getpass.getpass(\"Enter password for MIMIC2 database\"),\n",
    "                       db='mimic2')"
   ]
  },
  {
   "cell_type": "code",
   "execution_count": null,
   "metadata": {},
   "outputs": [],
   "source": []
  },
  {
   "cell_type": "markdown",
   "metadata": {},
   "source": [
    "# Labs\n",
    "Lab tests are used for diagnostic purposes."
   ]
  },
  {
   "cell_type": "code",
   "execution_count": 4,
   "metadata": {},
   "outputs": [
    {
     "data": {
      "text/html": [
       "<div>\n",
       "<style scoped>\n",
       "    .dataframe tbody tr th:only-of-type {\n",
       "        vertical-align: middle;\n",
       "    }\n",
       "\n",
       "    .dataframe tbody tr th {\n",
       "        vertical-align: top;\n",
       "    }\n",
       "\n",
       "    .dataframe thead th {\n",
       "        text-align: right;\n",
       "    }\n",
       "</style>\n",
       "<table border=\"1\" class=\"dataframe\">\n",
       "  <thead>\n",
       "    <tr style=\"text-align: right;\">\n",
       "      <th></th>\n",
       "      <th>subject_id</th>\n",
       "      <th>hospital_admission_id</th>\n",
       "      <th>datetime</th>\n",
       "      <th>value</th>\n",
       "      <th>flag</th>\n",
       "      <th>units</th>\n",
       "      <th>test_name</th>\n",
       "      <th>fluid</th>\n",
       "      <th>category</th>\n",
       "      <th>loinc_code</th>\n",
       "      <th>loinc_description</th>\n",
       "    </tr>\n",
       "  </thead>\n",
       "  <tbody>\n",
       "    <tr>\n",
       "      <td>0</td>\n",
       "      <td>56</td>\n",
       "      <td>28766.0</td>\n",
       "      <td>2644-01-17 00:30:00</td>\n",
       "      <td>155</td>\n",
       "      <td>abnormal</td>\n",
       "      <td>mg/dL</td>\n",
       "      <td>GLUCOSE</td>\n",
       "      <td>BLOOD</td>\n",
       "      <td>CHEMISTRY</td>\n",
       "      <td>2345-7</td>\n",
       "      <td>Glucose [Mass/volume] in Serum or Plasma</td>\n",
       "    </tr>\n",
       "    <tr>\n",
       "      <td>1</td>\n",
       "      <td>56</td>\n",
       "      <td>28766.0</td>\n",
       "      <td>2644-01-17 03:57:00</td>\n",
       "      <td>146</td>\n",
       "      <td>abnormal</td>\n",
       "      <td>mg/dL</td>\n",
       "      <td>GLUCOSE</td>\n",
       "      <td>BLOOD</td>\n",
       "      <td>CHEMISTRY</td>\n",
       "      <td>2345-7</td>\n",
       "      <td>Glucose [Mass/volume] in Serum or Plasma</td>\n",
       "    </tr>\n",
       "    <tr>\n",
       "      <td>2</td>\n",
       "      <td>56</td>\n",
       "      <td>28766.0</td>\n",
       "      <td>2644-01-18 03:30:00</td>\n",
       "      <td>140</td>\n",
       "      <td>abnormal</td>\n",
       "      <td>mg/dL</td>\n",
       "      <td>GLUCOSE</td>\n",
       "      <td>BLOOD</td>\n",
       "      <td>CHEMISTRY</td>\n",
       "      <td>2345-7</td>\n",
       "      <td>Glucose [Mass/volume] in Serum or Plasma</td>\n",
       "    </tr>\n",
       "    <tr>\n",
       "      <td>3</td>\n",
       "      <td>56</td>\n",
       "      <td>28766.0</td>\n",
       "      <td>2644-01-19 12:40:00</td>\n",
       "      <td>108</td>\n",
       "      <td>abnormal</td>\n",
       "      <td>mg/dL</td>\n",
       "      <td>GLUCOSE</td>\n",
       "      <td>BLOOD</td>\n",
       "      <td>CHEMISTRY</td>\n",
       "      <td>2345-7</td>\n",
       "      <td>Glucose [Mass/volume] in Serum or Plasma</td>\n",
       "    </tr>\n",
       "    <tr>\n",
       "      <td>4</td>\n",
       "      <td>37</td>\n",
       "      <td>18052.0</td>\n",
       "      <td>3264-08-14 06:00:00</td>\n",
       "      <td>303</td>\n",
       "      <td>abnormal</td>\n",
       "      <td>mg/dL</td>\n",
       "      <td>GLUCOSE</td>\n",
       "      <td>BLOOD</td>\n",
       "      <td>CHEMISTRY</td>\n",
       "      <td>2345-7</td>\n",
       "      <td>Glucose [Mass/volume] in Serum or Plasma</td>\n",
       "    </tr>\n",
       "  </tbody>\n",
       "</table>\n",
       "</div>"
      ],
      "text/plain": [
       "   subject_id  hospital_admission_id             datetime value      flag  \\\n",
       "0          56                28766.0  2644-01-17 00:30:00   155  abnormal   \n",
       "1          56                28766.0  2644-01-17 03:57:00   146  abnormal   \n",
       "2          56                28766.0  2644-01-18 03:30:00   140  abnormal   \n",
       "3          56                28766.0  2644-01-19 12:40:00   108  abnormal   \n",
       "4          37                18052.0  3264-08-14 06:00:00   303  abnormal   \n",
       "\n",
       "   units test_name  fluid   category loinc_code  \\\n",
       "0  mg/dL   GLUCOSE  BLOOD  CHEMISTRY     2345-7   \n",
       "1  mg/dL   GLUCOSE  BLOOD  CHEMISTRY     2345-7   \n",
       "2  mg/dL   GLUCOSE  BLOOD  CHEMISTRY     2345-7   \n",
       "3  mg/dL   GLUCOSE  BLOOD  CHEMISTRY     2345-7   \n",
       "4  mg/dL   GLUCOSE  BLOOD  CHEMISTRY     2345-7   \n",
       "\n",
       "                          loinc_description  \n",
       "0  Glucose [Mass/volume] in Serum or Plasma  \n",
       "1  Glucose [Mass/volume] in Serum or Plasma  \n",
       "2  Glucose [Mass/volume] in Serum or Plasma  \n",
       "3  Glucose [Mass/volume] in Serum or Plasma  \n",
       "4  Glucose [Mass/volume] in Serum or Plasma  "
      ]
     },
     "execution_count": 4,
     "metadata": {},
     "output_type": "execute_result"
    }
   ],
   "source": [
    "query = \"\"\"\n",
    "select labevents.subject_id, labevents.hadm_id as 'hospital_admission_id',\n",
    "    labevents.charttime as 'datetime',\n",
    "    labevents.value, labevents.flag,\n",
    "    labevents.valueuom as 'units',\n",
    "    d_labitems.test_name,\n",
    "    d_labitems.fluid,\n",
    "    d_labitems.category,\n",
    "    d_labitems.loinc_code,\n",
    "    d_labitems.loinc_description\n",
    "from labevents\n",
    "    inner join d_labitems\n",
    "    on labevents.itemid = d_labitems.itemid\n",
    "where loinc_code = '2345-7'\n",
    "limit 10\n",
    "\"\"\"\n",
    "df = pd.read_sql(query, conn)\n",
    "df.head()"
   ]
  },
  {
   "cell_type": "markdown",
   "metadata": {},
   "source": [
    "The purpose of a lab test is given by its LOINC code. LOINC is a standardized terminology for lab tests, similar to what ICD-9/10 codes are for diagnoses. \n",
    "\n",
    "### TODO\n",
    "Let's find all LOINC codes that contain \"Cholesterol\" in the title. We can use the `\"like %x%\"` statement in SQL to find texts which contain a certain string. Change the query below to filter for loinc codes where the description contains the text \"cholesterol\"."
   ]
  },
  {
   "cell_type": "code",
   "execution_count": null,
   "metadata": {},
   "outputs": [],
   "source": [
    "query = \"\"\"\n",
    "select loinc_code, loinc_description\n",
    "from d_labitems\n",
    "where ___ like '%___%' \n",
    "\"\"\"\n",
    "df = pd.read_sql(query, conn)\n",
    "df.head()"
   ]
  },
  {
   "cell_type": "markdown",
   "metadata": {},
   "source": [
    "Let's focus on a specific lab test. We'll look at the LOINC code 2345-7, which measures the amount of glucose in a patient's blood. This test is relevant for testing whether a patient has diabetes.\n"
   ]
  },
  {
   "cell_type": "code",
   "execution_count": 5,
   "metadata": {},
   "outputs": [
    {
     "data": {
      "text/html": [
       "<div>\n",
       "<style scoped>\n",
       "    .dataframe tbody tr th:only-of-type {\n",
       "        vertical-align: middle;\n",
       "    }\n",
       "\n",
       "    .dataframe tbody tr th {\n",
       "        vertical-align: top;\n",
       "    }\n",
       "\n",
       "    .dataframe thead th {\n",
       "        text-align: right;\n",
       "    }\n",
       "</style>\n",
       "<table border=\"1\" class=\"dataframe\">\n",
       "  <thead>\n",
       "    <tr style=\"text-align: right;\">\n",
       "      <th></th>\n",
       "      <th>subject_id</th>\n",
       "      <th>hadm_id</th>\n",
       "      <th>icustay_id</th>\n",
       "      <th>itemid</th>\n",
       "      <th>charttime</th>\n",
       "      <th>value</th>\n",
       "      <th>valuenum</th>\n",
       "      <th>flag</th>\n",
       "      <th>valueuom</th>\n",
       "      <th>itemid</th>\n",
       "      <th>test_name</th>\n",
       "      <th>fluid</th>\n",
       "      <th>category</th>\n",
       "      <th>loinc_code</th>\n",
       "      <th>loinc_description</th>\n",
       "    </tr>\n",
       "  </thead>\n",
       "  <tbody>\n",
       "    <tr>\n",
       "      <td>0</td>\n",
       "      <td>56</td>\n",
       "      <td>28766.0</td>\n",
       "      <td>NaN</td>\n",
       "      <td>50112</td>\n",
       "      <td>2644-01-17 00:30:00</td>\n",
       "      <td>155</td>\n",
       "      <td>155.0</td>\n",
       "      <td>abnormal</td>\n",
       "      <td>mg/dL</td>\n",
       "      <td>50112</td>\n",
       "      <td>GLUCOSE</td>\n",
       "      <td>BLOOD</td>\n",
       "      <td>CHEMISTRY</td>\n",
       "      <td>2345-7</td>\n",
       "      <td>Glucose [Mass/volume] in Serum or Plasma</td>\n",
       "    </tr>\n",
       "    <tr>\n",
       "      <td>1</td>\n",
       "      <td>56</td>\n",
       "      <td>28766.0</td>\n",
       "      <td>62.0</td>\n",
       "      <td>50112</td>\n",
       "      <td>2644-01-17 03:57:00</td>\n",
       "      <td>146</td>\n",
       "      <td>146.0</td>\n",
       "      <td>abnormal</td>\n",
       "      <td>mg/dL</td>\n",
       "      <td>50112</td>\n",
       "      <td>GLUCOSE</td>\n",
       "      <td>BLOOD</td>\n",
       "      <td>CHEMISTRY</td>\n",
       "      <td>2345-7</td>\n",
       "      <td>Glucose [Mass/volume] in Serum or Plasma</td>\n",
       "    </tr>\n",
       "    <tr>\n",
       "      <td>2</td>\n",
       "      <td>56</td>\n",
       "      <td>28766.0</td>\n",
       "      <td>62.0</td>\n",
       "      <td>50112</td>\n",
       "      <td>2644-01-18 03:30:00</td>\n",
       "      <td>140</td>\n",
       "      <td>140.0</td>\n",
       "      <td>abnormal</td>\n",
       "      <td>mg/dL</td>\n",
       "      <td>50112</td>\n",
       "      <td>GLUCOSE</td>\n",
       "      <td>BLOOD</td>\n",
       "      <td>CHEMISTRY</td>\n",
       "      <td>2345-7</td>\n",
       "      <td>Glucose [Mass/volume] in Serum or Plasma</td>\n",
       "    </tr>\n",
       "    <tr>\n",
       "      <td>3</td>\n",
       "      <td>56</td>\n",
       "      <td>28766.0</td>\n",
       "      <td>NaN</td>\n",
       "      <td>50112</td>\n",
       "      <td>2644-01-19 12:40:00</td>\n",
       "      <td>108</td>\n",
       "      <td>108.0</td>\n",
       "      <td>abnormal</td>\n",
       "      <td>mg/dL</td>\n",
       "      <td>50112</td>\n",
       "      <td>GLUCOSE</td>\n",
       "      <td>BLOOD</td>\n",
       "      <td>CHEMISTRY</td>\n",
       "      <td>2345-7</td>\n",
       "      <td>Glucose [Mass/volume] in Serum or Plasma</td>\n",
       "    </tr>\n",
       "    <tr>\n",
       "      <td>4</td>\n",
       "      <td>37</td>\n",
       "      <td>18052.0</td>\n",
       "      <td>NaN</td>\n",
       "      <td>50112</td>\n",
       "      <td>3264-08-14 06:00:00</td>\n",
       "      <td>303</td>\n",
       "      <td>303.0</td>\n",
       "      <td>abnormal</td>\n",
       "      <td>mg/dL</td>\n",
       "      <td>50112</td>\n",
       "      <td>GLUCOSE</td>\n",
       "      <td>BLOOD</td>\n",
       "      <td>CHEMISTRY</td>\n",
       "      <td>2345-7</td>\n",
       "      <td>Glucose [Mass/volume] in Serum or Plasma</td>\n",
       "    </tr>\n",
       "  </tbody>\n",
       "</table>\n",
       "</div>"
      ],
      "text/plain": [
       "   subject_id  hadm_id  icustay_id  itemid            charttime value  \\\n",
       "0          56  28766.0         NaN   50112  2644-01-17 00:30:00   155   \n",
       "1          56  28766.0        62.0   50112  2644-01-17 03:57:00   146   \n",
       "2          56  28766.0        62.0   50112  2644-01-18 03:30:00   140   \n",
       "3          56  28766.0         NaN   50112  2644-01-19 12:40:00   108   \n",
       "4          37  18052.0         NaN   50112  3264-08-14 06:00:00   303   \n",
       "\n",
       "   valuenum      flag valueuom  itemid test_name  fluid   category loinc_code  \\\n",
       "0     155.0  abnormal    mg/dL   50112   GLUCOSE  BLOOD  CHEMISTRY     2345-7   \n",
       "1     146.0  abnormal    mg/dL   50112   GLUCOSE  BLOOD  CHEMISTRY     2345-7   \n",
       "2     140.0  abnormal    mg/dL   50112   GLUCOSE  BLOOD  CHEMISTRY     2345-7   \n",
       "3     108.0  abnormal    mg/dL   50112   GLUCOSE  BLOOD  CHEMISTRY     2345-7   \n",
       "4     303.0  abnormal    mg/dL   50112   GLUCOSE  BLOOD  CHEMISTRY     2345-7   \n",
       "\n",
       "                          loinc_description  \n",
       "0  Glucose [Mass/volume] in Serum or Plasma  \n",
       "1  Glucose [Mass/volume] in Serum or Plasma  \n",
       "2  Glucose [Mass/volume] in Serum or Plasma  \n",
       "3  Glucose [Mass/volume] in Serum or Plasma  \n",
       "4  Glucose [Mass/volume] in Serum or Plasma  "
      ]
     },
     "execution_count": 5,
     "metadata": {},
     "output_type": "execute_result"
    }
   ],
   "source": [
    "query = \"\"\"\n",
    "select *\n",
    "from labevents\n",
    "    inner join d_labitems\n",
    "    on labevents.itemid = d_labitems.itemid\n",
    "where loinc_code = '2345-7'\n",
    "limit 1000\n",
    "\"\"\"\n",
    "df = pd.read_sql(query, conn)\n",
    "df.head()"
   ]
  },
  {
   "cell_type": "markdown",
   "metadata": {},
   "source": [
    "Note the column **flag**. This is a string value which tells whether a test is abnormal. Let's see how many of the 1000 labs we retrieved are abnormal. To do this, we can call the `value_counts` method of the column in the dataframe:"
   ]
  },
  {
   "cell_type": "code",
   "execution_count": 6,
   "metadata": {},
   "outputs": [
    {
     "data": {
      "text/plain": [
       "abnormal    698\n",
       "Name: flag, dtype: int64"
      ]
     },
     "execution_count": 6,
     "metadata": {},
     "output_type": "execute_result"
    }
   ],
   "source": [
    "df['flag'].value_counts()"
   ]
  },
  {
   "cell_type": "markdown",
   "metadata": {},
   "source": [
    "Why are only \"abnormal\" tests showing up?\n",
    "\n",
    "**TODO:** Change the `value_counts` method to show null values by adding a keyword argument `dropna=False`"
   ]
  },
  {
   "cell_type": "code",
   "execution_count": 7,
   "metadata": {},
   "outputs": [
    {
     "data": {
      "text/plain": [
       "abnormal    698\n",
       "NaN         302\n",
       "Name: flag, dtype: int64"
      ]
     },
     "execution_count": 7,
     "metadata": {},
     "output_type": "execute_result"
    }
   ],
   "source": [
    "df['flag'].value_counts(___)"
   ]
  },
  {
   "cell_type": "markdown",
   "metadata": {},
   "source": [
    "In addition, we can fill these null values in our SQL query by using the `coalesce` function. This will take the first non-null value in a list. So, for example,\n",
    "\n",
    "`coalesce(null, 'world!')` would return 'world!', while `coalesce('hello,', null)` would return 'hello'.\n",
    "\n",
    "**TODO:** Change the query below so that SQL will return the value of the column `flag` if it is not null and will return `'normal'` otherwise."
   ]
  },
  {
   "cell_type": "code",
   "execution_count": 8,
   "metadata": {},
   "outputs": [
    {
     "data": {
      "text/html": [
       "<div>\n",
       "<style scoped>\n",
       "    .dataframe tbody tr th:only-of-type {\n",
       "        vertical-align: middle;\n",
       "    }\n",
       "\n",
       "    .dataframe tbody tr th {\n",
       "        vertical-align: top;\n",
       "    }\n",
       "\n",
       "    .dataframe thead th {\n",
       "        text-align: right;\n",
       "    }\n",
       "</style>\n",
       "<table border=\"1\" class=\"dataframe\">\n",
       "  <thead>\n",
       "    <tr style=\"text-align: right;\">\n",
       "      <th></th>\n",
       "      <th>subject_id</th>\n",
       "      <th>hadm_id</th>\n",
       "      <th>valuenum</th>\n",
       "      <th>flag</th>\n",
       "      <th>units</th>\n",
       "      <th>test_name</th>\n",
       "      <th>loinc_code</th>\n",
       "      <th>loinc_description</th>\n",
       "    </tr>\n",
       "  </thead>\n",
       "  <tbody>\n",
       "    <tr>\n",
       "      <td>0</td>\n",
       "      <td>56</td>\n",
       "      <td>28766.0</td>\n",
       "      <td>155.0</td>\n",
       "      <td>abnormal</td>\n",
       "      <td>mg/dL</td>\n",
       "      <td>GLUCOSE</td>\n",
       "      <td>2345-7</td>\n",
       "      <td>Glucose [Mass/volume] in Serum or Plasma</td>\n",
       "    </tr>\n",
       "    <tr>\n",
       "      <td>1</td>\n",
       "      <td>56</td>\n",
       "      <td>28766.0</td>\n",
       "      <td>146.0</td>\n",
       "      <td>abnormal</td>\n",
       "      <td>mg/dL</td>\n",
       "      <td>GLUCOSE</td>\n",
       "      <td>2345-7</td>\n",
       "      <td>Glucose [Mass/volume] in Serum or Plasma</td>\n",
       "    </tr>\n",
       "    <tr>\n",
       "      <td>2</td>\n",
       "      <td>56</td>\n",
       "      <td>28766.0</td>\n",
       "      <td>140.0</td>\n",
       "      <td>abnormal</td>\n",
       "      <td>mg/dL</td>\n",
       "      <td>GLUCOSE</td>\n",
       "      <td>2345-7</td>\n",
       "      <td>Glucose [Mass/volume] in Serum or Plasma</td>\n",
       "    </tr>\n",
       "    <tr>\n",
       "      <td>3</td>\n",
       "      <td>56</td>\n",
       "      <td>28766.0</td>\n",
       "      <td>108.0</td>\n",
       "      <td>abnormal</td>\n",
       "      <td>mg/dL</td>\n",
       "      <td>GLUCOSE</td>\n",
       "      <td>2345-7</td>\n",
       "      <td>Glucose [Mass/volume] in Serum or Plasma</td>\n",
       "    </tr>\n",
       "    <tr>\n",
       "      <td>4</td>\n",
       "      <td>37</td>\n",
       "      <td>18052.0</td>\n",
       "      <td>303.0</td>\n",
       "      <td>abnormal</td>\n",
       "      <td>mg/dL</td>\n",
       "      <td>GLUCOSE</td>\n",
       "      <td>2345-7</td>\n",
       "      <td>Glucose [Mass/volume] in Serum or Plasma</td>\n",
       "    </tr>\n",
       "  </tbody>\n",
       "</table>\n",
       "</div>"
      ],
      "text/plain": [
       "   subject_id  hadm_id  valuenum      flag  units test_name loinc_code  \\\n",
       "0          56  28766.0     155.0  abnormal  mg/dL   GLUCOSE     2345-7   \n",
       "1          56  28766.0     146.0  abnormal  mg/dL   GLUCOSE     2345-7   \n",
       "2          56  28766.0     140.0  abnormal  mg/dL   GLUCOSE     2345-7   \n",
       "3          56  28766.0     108.0  abnormal  mg/dL   GLUCOSE     2345-7   \n",
       "4          37  18052.0     303.0  abnormal  mg/dL   GLUCOSE     2345-7   \n",
       "\n",
       "                          loinc_description  \n",
       "0  Glucose [Mass/volume] in Serum or Plasma  \n",
       "1  Glucose [Mass/volume] in Serum or Plasma  \n",
       "2  Glucose [Mass/volume] in Serum or Plasma  \n",
       "3  Glucose [Mass/volume] in Serum or Plasma  \n",
       "4  Glucose [Mass/volume] in Serum or Plasma  "
      ]
     },
     "execution_count": 8,
     "metadata": {},
     "output_type": "execute_result"
    }
   ],
   "source": [
    "query = \"\"\"\n",
    "select labevents.subject_id,\n",
    "    hadm_id,\n",
    "   valuenum,\n",
    "    coalesce(flag, ___) as 'flag',\n",
    "    labevents.valueuom as 'units',\n",
    "    d_labitems.test_name,\n",
    "    d_labitems.loinc_code,\n",
    "    d_labitems.loinc_description\n",
    "from labevents\n",
    "    inner join d_labitems\n",
    "    on labevents.itemid = d_labitems.itemid\n",
    "where loinc_code = '2345-7'\n",
    "limit 1000\n",
    "\"\"\"\n",
    "df = pd.read_sql(query, conn)\n",
    "df.head()"
   ]
  },
  {
   "cell_type": "code",
   "execution_count": 9,
   "metadata": {},
   "outputs": [
    {
     "data": {
      "text/plain": [
       "abnormal    698\n",
       "normal      302\n",
       "Name: flag, dtype: int64"
      ]
     },
     "execution_count": 9,
     "metadata": {},
     "output_type": "execute_result"
    }
   ],
   "source": [
    "df['flag'].value_counts(dropna=False)"
   ]
  },
  {
   "cell_type": "markdown",
   "metadata": {},
   "source": [
    "### TODO\n",
    "Create two plots:\n",
    "1. Generate a histogram of the `flag` column of df\n",
    "2. Generate a boxplot of the `valuenum` column stratified by flag (**hint:** remember when we stratified patient age of death by gender?)"
   ]
  },
  {
   "cell_type": "code",
   "execution_count": 10,
   "metadata": {},
   "outputs": [
    {
     "data": {
      "text/plain": [
       "<matplotlib.axes._subplots.AxesSubplot at 0x1140b5cf8>"
      ]
     },
     "execution_count": 10,
     "metadata": {},
     "output_type": "execute_result"
    },
    {
     "data": {
      "image/png": "[encoded data removed]",
      "text/plain": [
       "<Figure size 432x288 with 1 Axes>"
      ]
     },
     "metadata": {
      "needs_background": "light"
     },
     "output_type": "display_data"
    }
   ],
   "source": [
    "df['flag'].___()"
   ]
  },
  {
   "cell_type": "code",
   "execution_count": 11,
   "metadata": {},
   "outputs": [
    {
     "data": {
      "image/png": "[encoded data removed]",
      "text/plain": [
       "<Figure size 432x288 with 1 Axes>"
      ]
     },
     "metadata": {
      "needs_background": "light"
     },
     "output_type": "display_data"
    }
   ],
   "source": [
    "ax = sns.boxplot(x=___, y=___, data=df, order=['abnormal', 'normal'])"
   ]
  },
  {
   "cell_type": "markdown",
   "metadata": {},
   "source": [
    "### Discussion \n",
    "Do you think it's unusual that this test shows more \"abnormal\" results than \"normal\"? Why do you think that is?"
   ]
  },
  {
   "cell_type": "markdown",
   "metadata": {},
   "source": [
    "## Aggregate functions\n",
    "Note that the tests above have multiple values for the same patient taken a few hours apart. It might be useful to group together all of the values for a single patient and perform operations on all of a patient's values. Let's use aggregate functions to determine the min, max, and average values for a patient during one hospital stay.\n",
    "\n",
    "### TODO\n",
    "Write a query which retrieves lab results for the LOINC code '2345-7' and groups the results together by **subject_id**. Calculate the minimum, maximum, and average values for each patient and name them 'min_value', 'max_value', and 'avg_value'."
   ]
  },
  {
   "cell_type": "code",
   "execution_count": null,
   "metadata": {},
   "outputs": [],
   "source": [
    "query = \"\"\"\n",
    "select labevents.subject_id,\n",
    "    min(valuenum) as '___',\n",
    "    ___(valuenum) as 'max_value',\n",
    "    ___(valuenum) as '___'\n",
    "from labevents\n",
    "    inner join d_labitems\n",
    "    on labevents.itemid = d_labitems.itemid\n",
    "where loinc_code = '2345-7'\n",
    "group by ___\n",
    "limit 100\n",
    "\"\"\"\n",
    "df = pd.read_sql(query, conn)\n",
    "df.head()"
   ]
  },
  {
   "cell_type": "markdown",
   "metadata": {},
   "source": [
    "### Bonus\n",
    "Plot the 'avg_value' column from the dataframe above."
   ]
  },
  {
   "cell_type": "code",
   "execution_count": null,
   "metadata": {},
   "outputs": [],
   "source": []
  },
  {
   "cell_type": "code",
   "execution_count": null,
   "metadata": {},
   "outputs": [],
   "source": []
  },
  {
   "cell_type": "markdown",
   "metadata": {},
   "source": [
    "# Chart Events\n",
    "The `chartevents` table in MIMIC-II contains vitals measurements. The table `d_chartitems` defines what these measurements. Let's look at what the first 25 alphabetical vital measurements are:"
   ]
  },
  {
   "cell_type": "code",
   "execution_count": null,
   "metadata": {
    "scrolled": true
   },
   "outputs": [],
   "source": [
    "query = \"\"\"\n",
    "select distinct d_chartitems.label\n",
    " from d_chartitems\n",
    "limit 25;\n",
    "\"\"\"\n",
    "df = pd.read_sql(query, conn)\n",
    "df.head(25)"
   ]
  },
  {
   "cell_type": "markdown",
   "metadata": {},
   "source": [
    "Now let's query the first 1000 rows from `chartevents` to see what some actual measurements look like:"
   ]
  },
  {
   "cell_type": "code",
   "execution_count": null,
   "metadata": {},
   "outputs": [],
   "source": [
    "query = \"\"\"\n",
    "select\n",
    "    *\n",
    " from mimic2.chartevents\n",
    "inner join d_chartitems on chartevents.itemid = d_chartitems.itemid\n",
    "limit 1000;\n",
    "\"\"\"\n",
    "df = pd.read_sql(query, conn)\n",
    "df.head()"
   ]
  },
  {
   "cell_type": "code",
   "execution_count": null,
   "metadata": {},
   "outputs": [],
   "source": [
    "df['label'].value_counts()"
   ]
  },
  {
   "cell_type": "markdown",
   "metadata": {},
   "source": [
    "Let's look at some measurements for blood pressure. I checked beforehand and found 4 tests which we could use. Their id's in `d_chartitems` are (6, 51, 455, 6701). Let's look at what these tests are:"
   ]
  },
  {
   "cell_type": "code",
   "execution_count": null,
   "metadata": {},
   "outputs": [],
   "source": [
    "# Blood pressure\n",
    "query = \"\"\"\n",
    "select\n",
    "    *\n",
    " from d_chartitems\n",
    "where itemid in (6, 51, 455, 6701);\n",
    "\"\"\"\n",
    "df = pd.read_sql(query, conn)\n",
    "df.head()"
   ]
  },
  {
   "cell_type": "markdown",
   "metadata": {},
   "source": [
    "Again, let's query `chartevents` to see what these measurements actually look like:"
   ]
  },
  {
   "cell_type": "code",
   "execution_count": null,
   "metadata": {},
   "outputs": [],
   "source": [
    "# Blood pressure\n",
    "query = \"\"\"\n",
    "select\n",
    "    *\n",
    " from mimic2.chartevents\n",
    "    inner join d_chartitems on chartevents.itemid = d_chartitems.itemid\n",
    "where d_chartitems.itemid in (6, 51, 455, 6701)\n",
    "limit 5;\n",
    "\"\"\"\n",
    "df = pd.read_sql(query, conn)\n",
    "df.head()"
   ]
  },
  {
   "cell_type": "markdown",
   "metadata": {},
   "source": [
    "The values which we're interested in here are:\n",
    "- `\"value1num\"` - this represents the systolic blood pressure\n",
    "- `\"value2num\"` - this represents the diastolic blood pressure\n",
    "\n",
    "### TODO\n",
    "Write a query for these blood pressure measurements and assign aliases to these two values:\n",
    "- `\"value1num\"` should be called \"systolic_bp\"\n",
    "- `\"value2num\"` should be called \"diastolic_bp\""
   ]
  },
  {
   "cell_type": "code",
   "execution_count": null,
   "metadata": {},
   "outputs": [],
   "source": [
    "# Blood pressure\n",
    "query = \"\"\"\n",
    "select\n",
    "    subject_id, icustay_id, charttime, \n",
    "    value1num as '___',\n",
    "    ___ as '___',\n",
    "    label\n",
    " from mimic2.chartevents\n",
    "    inner join d_chartitems on chartevents.itemid = d_chartitems.itemid\n",
    "where d_chartitems.itemid in ___\n",
    "limit 1000;\n",
    "\"\"\"\n",
    "df = pd.read_sql(query, conn)"
   ]
  },
  {
   "cell_type": "code",
   "execution_count": null,
   "metadata": {},
   "outputs": [],
   "source": [
    "df.head(10)"
   ]
  },
  {
   "cell_type": "markdown",
   "metadata": {},
   "source": [
    "### Discussion\n",
    "Some measurements are 0. Others are null. What do you think this means? What should we do with these rows?\n"
   ]
  },
  {
   "cell_type": "code",
   "execution_count": null,
   "metadata": {},
   "outputs": [],
   "source": []
  },
  {
   "cell_type": "code",
   "execution_count": null,
   "metadata": {},
   "outputs": [],
   "source": [
    "df = df[df['systolic_bp'] > 0]\n",
    "df = df.dropna()"
   ]
  },
  {
   "cell_type": "code",
   "execution_count": null,
   "metadata": {},
   "outputs": [],
   "source": [
    "df.head()"
   ]
  },
  {
   "cell_type": "markdown",
   "metadata": {},
   "source": [
    "## Plotting Vitals\n",
    "Now, let's plot these variables.\n",
    "\n",
    "### TODO\n",
    "Plot the distribution of systolic and diastolic blood pressures side-by-side. I've created two subplots next to each other. Call the `hist` method on the appropriate columns of the DataFrame."
   ]
  },
  {
   "cell_type": "code",
   "execution_count": null,
   "metadata": {},
   "outputs": [],
   "source": [
    "fig, (ax1, ax2) = plt.subplots(1, 2, sharex=True, sharey=True)\n",
    "df[___].hist(ax=ax1)\n",
    "df['diastolic_bp'].___(ax=ax2)"
   ]
  },
  {
   "cell_type": "code",
   "execution_count": null,
   "metadata": {},
   "outputs": [],
   "source": []
  },
  {
   "cell_type": "markdown",
   "metadata": {},
   "source": [
    "Let's look at how these two readings are **correlated** with one another. We can do this in two ways. First, we'll plot a **scatterplot** which will allow us to visualize the relationship between one variable (systolic blood pressure) and another (diastolic). Next, we can calculate the correlation coefficient of the two variables by using the `corr` method of the columns in the dataframe."
   ]
  },
  {
   "cell_type": "code",
   "execution_count": null,
   "metadata": {},
   "outputs": [],
   "source": [
    "df.head()"
   ]
  },
  {
   "cell_type": "markdown",
   "metadata": {},
   "source": [
    "### TODO\n",
    "Call the function `sns.scatterplot`. Plot 'diastolic_bp' on the x axis and 'systolic_bp' on the y axis."
   ]
  },
  {
   "cell_type": "code",
   "execution_count": null,
   "metadata": {},
   "outputs": [],
   "source": [
    "___.___(x=___, y=___, data=df)"
   ]
  },
  {
   "cell_type": "code",
   "execution_count": null,
   "metadata": {},
   "outputs": [],
   "source": [
    "df['diastolic_bp'].corr(df['systolic_bp'])"
   ]
  },
  {
   "cell_type": "markdown",
   "metadata": {},
   "source": [
    "### Discussion\n",
    "Look at the scatterplot of the two blood pressure readings. What does this tell us about the relationship between these two variables?"
   ]
  },
  {
   "cell_type": "code",
   "execution_count": null,
   "metadata": {},
   "outputs": [],
   "source": []
  }
 ],
 "metadata": {
  "kernelspec": {
   "display_name": "Python 3",
   "language": "python",
   "name": "python3"
  },
  "language_info": {
   "codemirror_mode": {
    "name": "ipython",
    "version": 3
   },
   "file_extension": ".py",
   "mimetype": "text/x-python",
   "name": "python",
   "nbconvert_exporter": "python",
   "pygments_lexer": "ipython3",
   "version": "3.7.3"
  }
 },
 "nbformat": 4,
 "nbformat_minor": 2
}
