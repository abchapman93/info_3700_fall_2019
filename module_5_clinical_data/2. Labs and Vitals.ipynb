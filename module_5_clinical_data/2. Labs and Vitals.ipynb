{
 "cells": [
  {
   "cell_type": "code",
   "execution_count": null,
   "metadata": {},
   "outputs": [],
   "source": [
    "import pandas as pd\n",
    "import pymysql\n",
    "import getpass"
   ]
  },
  {
   "cell_type": "code",
   "execution_count": null,
   "metadata": {},
   "outputs": [],
   "source": [
    "import matplotlib.pyplot as plt\n",
    "%matplotlib inline\n",
    "\n",
    "import seaborn as sns\n",
    "sns.set()"
   ]
  },
  {
   "cell_type": "code",
   "execution_count": null,
   "metadata": {},
   "outputs": [],
   "source": [
    "conn = pymysql.connect(host=\"35.233.174.193\",port=3306,\n",
    "                       user=\"jovyan\",passwd=getpass.getpass(\"Enter password for MIMIC2 database\"),\n",
    "                       db='mimic2')"
   ]
  },
  {
   "cell_type": "code",
   "execution_count": null,
   "metadata": {},
   "outputs": [],
   "source": []
  },
  {
   "cell_type": "markdown",
   "metadata": {},
   "source": [
    "# Labs\n",
    "Lab tests are used for diagnostic purposes."
   ]
  },
  {
   "cell_type": "code",
   "execution_count": null,
   "metadata": {},
   "outputs": [],
   "source": [
    "query = \"\"\"\n",
    "select labevents.subject_id, labevents.hadm_id as 'hospital_admission_id',\n",
    "    labevents.charttime as 'datetime',\n",
    "    labevents.value, labevents.flag,\n",
    "    labevents.valueuom as 'units',\n",
    "    d_labitems.test_name,\n",
    "    d_labitems.fluid,\n",
    "    d_labitems.category,\n",
    "    d_labitems.loinc_code,\n",
    "    d_labitems.loinc_description\n",
    "from labevents\n",
    "    inner join d_labitems\n",
    "    on labevents.itemid = d_labitems.itemid\n",
    "where loinc_code = '2345-7'\n",
    "limit 10\n",
    "\"\"\"\n",
    "df = pd.read_sql(query, conn)\n",
    "df.head()"
   ]
  },
  {
   "cell_type": "markdown",
   "metadata": {},
   "source": [
    "The purpose of a lab test is given by its LOINC code. LOINC is a standardized terminology for lab tests, similar to what ICD-9/10 codes are for diagnoses. \n",
    "\n",
    "**Coding Exercise**\n",
    "Let's find all LOINC codes that contain \"Cholesterol\" in the title. Change the query below to filter for loinc codes where the description contains the text \"cholesterol\"."
   ]
  },
  {
   "cell_type": "code",
   "execution_count": null,
   "metadata": {},
   "outputs": [],
   "source": [
    "query = \"\"\"\n",
    "select loinc_code, loinc_description\n",
    "from d_labitems\n",
    "    \n",
    "where loinc_description like '%cholesterol%' \n",
    "\"\"\"\n",
    "df = pd.read_sql(query, conn)\n",
    "df.head()"
   ]
  },
  {
   "cell_type": "markdown",
   "metadata": {},
   "source": [
    "Let's focus on a specific lab test. We'll look at the LOINC code 2345-7, which measures the amount of glucose in a patient's blood. This test is relevant for testing whether a patient has diabetes.\n",
    "\n",
    "**Coding Exercise**"
   ]
  },
  {
   "cell_type": "code",
   "execution_count": null,
   "metadata": {},
   "outputs": [],
   "source": [
    "query = \"\"\"\n",
    "select *\n",
    "from labevents\n",
    "    inner join d_labitems\n",
    "    on labevents.itemid = d_labitems.itemid\n",
    "where loinc_code = '2345-7'\n",
    "limit 1000\n",
    "\"\"\"\n",
    "df = pd.read_sql(query, conn)\n",
    "df.head()"
   ]
  },
  {
   "cell_type": "markdown",
   "metadata": {},
   "source": [
    "Note the column **flag**. This is a string value which tells whether a test is abnormal. Let's see how many of the 1000 labs we retrieved are abnormal. To do this, we can call the `value_counts` method of the column in the dataframe:"
   ]
  },
  {
   "cell_type": "code",
   "execution_count": null,
   "metadata": {},
   "outputs": [],
   "source": [
    "df['flag'].value_counts()"
   ]
  },
  {
   "cell_type": "markdown",
   "metadata": {},
   "source": [
    "Why are only \"abnormal\" tests showing up?\n",
    "\n",
    "**TODO:** Change the `value_counts` method to show null values by adding a keyword argument `dropna=False`"
   ]
  },
  {
   "cell_type": "code",
   "execution_count": null,
   "metadata": {},
   "outputs": [],
   "source": [
    "df['flag'].value_counts(dropna=False)"
   ]
  },
  {
   "cell_type": "markdown",
   "metadata": {},
   "source": [
    "In addition, we can fill these null values in our SQL query by using the `coalesce` function. This will take the first non-null value in a list. So, for example,\n",
    "\n",
    "`coalesce(null, 'world!')` would return 'world!', while `coalesce('hello,', null)` would return 'hello'.\n",
    "\n",
    "**TODO:** Change the query below so that SQL will return the value of the column `flag` if it is not null and will return 'normal' otherwise."
   ]
  },
  {
   "cell_type": "code",
   "execution_count": null,
   "metadata": {},
   "outputs": [],
   "source": [
    "query = \"\"\"\n",
    "select labevents.subject_id,\n",
    "    hadm_id,\n",
    "   valuenum,\n",
    "    coalesce(flag, 'normal') as 'flag',\n",
    "    labevents.valueuom as 'units',\n",
    "    d_labitems.test_name,\n",
    "    d_labitems.loinc_code,\n",
    "    d_labitems.loinc_description\n",
    "from labevents\n",
    "    inner join d_labitems\n",
    "    on labevents.itemid = d_labitems.itemid\n",
    "where loinc_code = '2345-7'\n",
    "limit 1000\n",
    "\"\"\"\n",
    "df = pd.read_sql(query, conn)\n",
    "df.head()"
   ]
  },
  {
   "cell_type": "code",
   "execution_count": null,
   "metadata": {},
   "outputs": [],
   "source": [
    "df['flag'].value_counts(dropna=False)"
   ]
  },
  {
   "cell_type": "markdown",
   "metadata": {},
   "source": [
    "### TODO\n",
    "Create two plots:\n",
    "1. Generate a histogram of the `flag` column of df\n",
    "2. Generate a boxplot of the `valuenum` column stratified by flag (**hint:** remember when we stratified patient age of death by gender?)"
   ]
  },
  {
   "cell_type": "code",
   "execution_count": null,
   "metadata": {},
   "outputs": [],
   "source": [
    "df['flag'].hist()"
   ]
  },
  {
   "cell_type": "markdown",
   "metadata": {},
   "source": [
    "We can also use a boxplot to look at the distribution of tests stratified by flag:"
   ]
  },
  {
   "cell_type": "code",
   "execution_count": null,
   "metadata": {},
   "outputs": [],
   "source": [
    "ax = sns.boxplot(x=\"flag\", y=\"valuenum\", data=df, order=['abnormal', 'normal'])"
   ]
  },
  {
   "cell_type": "markdown",
   "metadata": {},
   "source": [
    "### Discussion \n",
    "Do you think it's unusual that this test shows more \"abnormal\" results than \"normal\"? Why do you think that is?"
   ]
  },
  {
   "cell_type": "markdown",
   "metadata": {},
   "source": [
    "## Aggregate functions\n",
    "Note that the tests above have multiple values for the same patient taken a few hours apart. It might be useful to group together all of the values for a single patient and perform operations on all of a patient's values. Let's use aggregate functions to determine the min, max, and average values for a patient during one hospital stay.\n",
    "\n",
    "### TODO\n",
    "Write a query which retrieves lab results for the LOINC code '2345-7' and groups the results together by **subject_id**. Calculate the minimum, maximum, and average values for each patient and name them 'min_value', 'max_value', and 'avg_value'."
   ]
  },
  {
   "cell_type": "code",
   "execution_count": null,
   "metadata": {},
   "outputs": [],
   "source": [
    "query = \"\"\"\n",
    "select labevents.subject_id,\n",
    "    min(valuenum) as 'min_value',\n",
    "    max(valuenum) as 'max_value',\n",
    "    avg(valuenum) as 'avg_value'\n",
    "from labevents\n",
    "    inner join d_labitems\n",
    "    on labevents.itemid = d_labitems.itemid\n",
    "where loinc_code = '2345-7'\n",
    "group by subject_id\n",
    "limit 100\n",
    "\"\"\"\n",
    "df = pd.read_sql(query, conn)\n",
    "df.head()"
   ]
  },
  {
   "cell_type": "markdown",
   "metadata": {},
   "source": [
    "### Bonus\n",
    "Plot the 'avg_value' column from the dataframe above."
   ]
  },
  {
   "cell_type": "code",
   "execution_count": null,
   "metadata": {},
   "outputs": [],
   "source": [
    "sns.distplot(df['avg_value'])"
   ]
  },
  {
   "cell_type": "code",
   "execution_count": null,
   "metadata": {},
   "outputs": [],
   "source": []
  },
  {
   "cell_type": "markdown",
   "metadata": {},
   "source": [
    "# Chart Events\n",
    "The `chartevents` table in MIMIC-II contains vitals measurements. The table `d_chartitems` defines what these measurements. Let's look at what the first 25 alphabetical vital measurements are:"
   ]
  },
  {
   "cell_type": "code",
   "execution_count": null,
   "metadata": {
    "scrolled": true
   },
   "outputs": [],
   "source": [
    "query = \"\"\"\n",
    "select distinct d_chartitems.label\n",
    " from d_chartitems\n",
    "limit 25;\n",
    "\"\"\"\n",
    "df = pd.read_sql(query, conn)\n",
    "df.head(25)"
   ]
  },
  {
   "cell_type": "markdown",
   "metadata": {},
   "source": [
    "Now let's query the first 1000 rows from `chartevents` to see what some actual measurements look like:"
   ]
  },
  {
   "cell_type": "code",
   "execution_count": null,
   "metadata": {},
   "outputs": [],
   "source": [
    "query = \"\"\"\n",
    "select\n",
    "    *\n",
    " from mimic2.chartevents\n",
    "inner join d_chartitems on chartevents.itemid = d_chartitems.itemid\n",
    "limit 1000;\n",
    "\"\"\"\n",
    "df = pd.read_sql(query, conn)\n",
    "df.head()"
   ]
  },
  {
   "cell_type": "code",
   "execution_count": null,
   "metadata": {},
   "outputs": [],
   "source": [
    "df['label'].value_counts()"
   ]
  },
  {
   "cell_type": "markdown",
   "metadata": {},
   "source": [
    "Let's look at some measurements for blood pressure. I checked beforehand and found 4 tests which we could use. Their id's in `d_chartitems` are (6, 51, 455, 6701). Let's look at what these tests are:"
   ]
  },
  {
   "cell_type": "code",
   "execution_count": null,
   "metadata": {},
   "outputs": [],
   "source": [
    "# Blood pressure\n",
    "query = \"\"\"\n",
    "select\n",
    "    *\n",
    " from d_chartitems\n",
    "where itemid in (6, 51, 455, 6701);\n",
    "\"\"\"\n",
    "df = pd.read_sql(query, conn)\n",
    "df.head()"
   ]
  },
  {
   "cell_type": "markdown",
   "metadata": {},
   "source": [
    "Again, let's query `chartevents` to see what these measurements actually look like:"
   ]
  },
  {
   "cell_type": "code",
   "execution_count": null,
   "metadata": {},
   "outputs": [],
   "source": [
    "# Blood pressure\n",
    "query = \"\"\"\n",
    "select\n",
    "    *\n",
    " from mimic2.chartevents\n",
    "    inner join d_chartitems on chartevents.itemid = d_chartitems.itemid\n",
    "where d_chartitems.itemid in (6, 51, 455, 6701)\n",
    "limit 5;\n",
    "\"\"\"\n",
    "df = pd.read_sql(query, conn)\n",
    "df.head()"
   ]
  },
  {
   "cell_type": "markdown",
   "metadata": {},
   "source": [
    "The values which we're interested in here are:\n",
    "- `\"value1num\"` - this represents the systolic blood pressure\n",
    "- `\"value2num\"` - this represents the diastolic blood pressure\n",
    "\n",
    "### TODO\n",
    "Write a query for these blood pressure measurements and assign aliases to these two values:\n",
    "- `\"value1num\"` should be called \"systolic_bp\"\n",
    "- `\"value2num\"` should be called \"diastolic_bp\""
   ]
  },
  {
   "cell_type": "code",
   "execution_count": null,
   "metadata": {},
   "outputs": [],
   "source": [
    "# Blood pressure\n",
    "query = \"\"\"\n",
    "select\n",
    "    subject_id, icustay_id, charttime, \n",
    "    value1num as 'systolic_bp',\n",
    "    value2num as 'diastolic_bp',\n",
    "    label\n",
    " from mimic2.chartevents\n",
    "    inner join d_chartitems on chartevents.itemid = d_chartitems.itemid\n",
    "where d_chartitems.itemid in (6, 51, 455, 6701)\n",
    "limit 1000;\n",
    "\"\"\"\n",
    "df = pd.read_sql(query, conn)"
   ]
  },
  {
   "cell_type": "code",
   "execution_count": null,
   "metadata": {},
   "outputs": [],
   "source": [
    "df.head(10)"
   ]
  },
  {
   "cell_type": "markdown",
   "metadata": {},
   "source": [
    "### Discussion\n",
    "Some measurements are 0. Others are null. What do you think this means? What should we do with these rows?\n"
   ]
  },
  {
   "cell_type": "code",
   "execution_count": null,
   "metadata": {},
   "outputs": [],
   "source": []
  },
  {
   "cell_type": "code",
   "execution_count": null,
   "metadata": {},
   "outputs": [],
   "source": [
    "df = df[df['systolic_bp'] > 0]\n",
    "df = df.dropna()"
   ]
  },
  {
   "cell_type": "code",
   "execution_count": null,
   "metadata": {},
   "outputs": [],
   "source": [
    "df.head()"
   ]
  },
  {
   "cell_type": "markdown",
   "metadata": {},
   "source": [
    "## Plotting Vitals\n",
    "Now, let's plot these variables.\n",
    "\n",
    "### TODO\n",
    "Plot the distribution of systolic and diastolic blood pressures side-by-side. I've created two subplots next to each other. Call the `hist` method on the appropriate columns of the DataFrame."
   ]
  },
  {
   "cell_type": "code",
   "execution_count": null,
   "metadata": {},
   "outputs": [],
   "source": [
    "fig, (ax1, ax2) = plt.subplots(1, 2, sharex=True, sharey=True)\n",
    "df['systolic_bp'].hist(ax=ax1)\n",
    "df['diastolic_bp'].hist(ax=ax2)"
   ]
  },
  {
   "cell_type": "code",
   "execution_count": null,
   "metadata": {},
   "outputs": [],
   "source": []
  },
  {
   "cell_type": "markdown",
   "metadata": {},
   "source": [
    "Let's look at how these two readings are **correlated** with one another. We can do this in two ways. First, we'll plot a **scatterplot** which will allow us to visualize the relationship between one variable (systolic blood pressure) and another (diastolic). Next, we can calculate the correlation coefficient of the two variables by using the `corr` method of the columns in the dataframe."
   ]
  },
  {
   "cell_type": "code",
   "execution_count": null,
   "metadata": {},
   "outputs": [],
   "source": [
    "df.head()"
   ]
  },
  {
   "cell_type": "markdown",
   "metadata": {},
   "source": [
    "### TODO\n",
    "Call the function `sns.scatterplot`. Plot 'diastolic_bp' on the x axis and 'systolic_bp' on the y axis."
   ]
  },
  {
   "cell_type": "code",
   "execution_count": null,
   "metadata": {},
   "outputs": [],
   "source": [
    "sns.scatterplot(x='diastolic_bp', y='systolic_bp', data=df)"
   ]
  },
  {
   "cell_type": "code",
   "execution_count": null,
   "metadata": {},
   "outputs": [],
   "source": [
    "df['diastolic_bp'].corr(df['systolic_bp'])"
   ]
  },
  {
   "cell_type": "markdown",
   "metadata": {},
   "source": [
    "### Discussion\n",
    "Look at the scatterplot of the two blood pressure readings. What does this tell us about the relationship between these two variables?"
   ]
  },
  {
   "cell_type": "code",
   "execution_count": null,
   "metadata": {},
   "outputs": [],
   "source": []
  }
 ],
 "metadata": {
  "kernelspec": {
   "display_name": "Python 3",
   "language": "python",
   "name": "python3"
  },
  "language_info": {
   "codemirror_mode": {
    "name": "ipython",
    "version": 3
   },
   "file_extension": ".py",
   "mimetype": "text/x-python",
   "name": "python",
   "nbconvert_exporter": "python",
   "pygments_lexer": "ipython3",
   "version": "3.7.3"
  }
 },
 "nbformat": 4,
 "nbformat_minor": 2
}
