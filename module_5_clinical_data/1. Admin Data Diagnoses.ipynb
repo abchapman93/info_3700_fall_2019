{
 "cells": [
  {
   "cell_type": "code",
   "execution_count": null,
   "metadata": {},
   "outputs": [],
   "source": [
    "import pandas as pd\n",
    "import pymysql\n",
    "import getpass"
   ]
  },
  {
   "cell_type": "code",
   "execution_count": null,
   "metadata": {},
   "outputs": [],
   "source": [
    "import matplotlib.pyplot as plt\n",
    "%matplotlib inline\n",
    "\n",
    "import seaborn as sns\n",
    "sns.set()"
   ]
  },
  {
   "cell_type": "code",
   "execution_count": null,
   "metadata": {},
   "outputs": [],
   "source": [
    "conn = pymysql.connect(host=\"35.233.174.193\",port=3306,\n",
    "                       user=\"jovyan\",passwd=getpass.getpass(\"Enter password for MIMIC2 database\"),\n",
    "                       db='mimic2')"
   ]
  },
  {
   "cell_type": "code",
   "execution_count": null,
   "metadata": {},
   "outputs": [],
   "source": []
  },
  {
   "cell_type": "markdown",
   "metadata": {},
   "source": [
    "# Administrative and demographic data\n",
    "Administrative data defines general information about the patient, such as:\n",
    "- Name\n",
    "- Sex\n",
    "- Date of birth\n",
    "- Insurance information\n",
    "\n",
    "In MIMIC, patient data is stored in a table called `d_patients`. Additional demograpic data is stored in a table called `demographic_detail`.\n",
    "\n",
    "Let's first select all (`\"select *\"`) for the first 5 patients in `d_patients`:"
   ]
  },
  {
   "cell_type": "code",
   "execution_count": null,
   "metadata": {},
   "outputs": [],
   "source": [
    "query = \"\"\"\n",
    "select * from d_patients limit 5;\n",
    "\"\"\"\n",
    "df = pd.read_sql(query, conn)\n",
    "df"
   ]
  },
  {
   "cell_type": "markdown",
   "metadata": {},
   "source": [
    "We can look at data for a specific patient by using a `where` statement to filter to a specific subject id:"
   ]
  },
  {
   "cell_type": "code",
   "execution_count": null,
   "metadata": {},
   "outputs": [],
   "source": [
    "query = \"\"\"\n",
    "select * from d_patients \n",
    "where subject_id = 31;\n",
    "\"\"\"\n",
    "df = pd.read_sql(query, conn)\n",
    "df"
   ]
  },
  {
   "cell_type": "markdown",
   "metadata": {},
   "source": [
    "Lets look at what's in `demographic_detail`:"
   ]
  },
  {
   "cell_type": "code",
   "execution_count": null,
   "metadata": {},
   "outputs": [],
   "source": [
    "query = \"\"\"\n",
    "select * from demographic_detail limit 5;\n",
    "\"\"\"\n",
    "df = pd.read_sql(query, conn)\n",
    "df"
   ]
  },
  {
   "cell_type": "markdown",
   "metadata": {},
   "source": [
    "We can join these two tables using a `join` statement. The column `subject_id`, which is the identifier for a patient, is consistent between these two columns and can be used to join them together:"
   ]
  },
  {
   "cell_type": "code",
   "execution_count": null,
   "metadata": {},
   "outputs": [],
   "source": [
    "query = \"\"\"\n",
    "select * \n",
    "from d_patients\n",
    "    join demographic_detail on d_patients.subject_id = demographic_detail.subject_id\n",
    "limit 5;\n",
    "\"\"\"\n",
    "df = pd.read_sql(query, conn)\n",
    "df"
   ]
  },
  {
   "cell_type": "markdown",
   "metadata": {},
   "source": [
    "Now, let's see what we can do with this data. Let's say that we want to know what age patients were when they died. To do this, we can use a function to subtract `dob` (\"date of birth\") from `dod` (\"date of death\"):"
   ]
  },
  {
   "cell_type": "code",
   "execution_count": null,
   "metadata": {},
   "outputs": [],
   "source": [
    "query = \"\"\"\n",
    "select subject_id, sex, \n",
    "    dob, dod, \n",
    "    floor(datediff(dod, dob) / 365)  as 'age_at_death'\n",
    "from mimic2.d_patients\n",
    "limit 100;\n",
    "\"\"\"\n",
    "df = pd.read_sql(query, conn)\n",
    "df"
   ]
  },
  {
   "cell_type": "markdown",
   "metadata": {},
   "source": [
    "Maybe we're interested in the max, min, and average ages. We can use agreggate functions to do this:"
   ]
  },
  {
   "cell_type": "code",
   "execution_count": null,
   "metadata": {},
   "outputs": [],
   "source": [
    "query = \"\"\"\n",
    "select\n",
    "    count(1) as 'number_of_patients',\n",
    "    max(floor(datediff(dod, dob) / 365))  as 'max_age_at_death',\n",
    "    min(floor(datediff(dod, dob) / 365))  as 'min_age_at_death',\n",
    "    avg(floor(datediff(dod, dob) / 365))  as 'avg_age_at_death'\n",
    "    \n",
    "from (select dod, dob from mimic2.d_patients limit 1000) sub;\n",
    "\"\"\"\n",
    "df = pd.read_sql(query, conn)\n",
    "df"
   ]
  },
  {
   "cell_type": "markdown",
   "metadata": {},
   "source": [
    "Now, let's use Python to do something similar. Let's query data and use Python to calculate these statistics and then plot the distribution:"
   ]
  },
  {
   "cell_type": "code",
   "execution_count": null,
   "metadata": {},
   "outputs": [],
   "source": [
    "# First, query the raw data\n",
    "query = \"\"\"\n",
    "select subject_id, sex, \n",
    "    dob, dod, \n",
    "    floor(datediff(dod, dob) / 365)  as 'age_at_death'\n",
    "from mimic2.d_patients\n",
    "limit 1000;\n",
    "\"\"\"\n",
    "df = pd.read_sql(query, conn)\n",
    "df"
   ]
  },
  {
   "cell_type": "code",
   "execution_count": null,
   "metadata": {},
   "outputs": [],
   "source": [
    "# Summary statistics\n",
    "df['age_at_death'].describe()"
   ]
  },
  {
   "cell_type": "markdown",
   "metadata": {},
   "source": [
    "Now, let's use some additional Python libraries to plot this data in a histogram:"
   ]
  },
  {
   "cell_type": "code",
   "execution_count": null,
   "metadata": {},
   "outputs": [],
   "source": [
    "import seaborn as sns\n",
    "import matplotlib.pyplot as plt\n",
    "%matplotlib inline"
   ]
  },
  {
   "cell_type": "code",
   "execution_count": null,
   "metadata": {},
   "outputs": [],
   "source": [
    "ax = sns.distplot(df['age_at_death'])"
   ]
  },
  {
   "cell_type": "code",
   "execution_count": null,
   "metadata": {},
   "outputs": [],
   "source": [
    "# We can also use a boxplot:\n",
    "ax = sns.boxplot( y='age_at_death', data=df)"
   ]
  },
  {
   "cell_type": "markdown",
   "metadata": {},
   "source": [
    "Let's say we also want to compare the distribution of age of death between men and women. We can do this in a boxplot by adding an 'x' variable:\n",
    "\n",
    "### Discussion\n",
    "Looking at these two plots, what can you say about the difference between the age of death for men and women?"
   ]
  },
  {
   "cell_type": "code",
   "execution_count": null,
   "metadata": {},
   "outputs": [],
   "source": [
    "ax = sns.boxplot(x='sex', y='age_at_death', data=df, order=['F', 'M'])"
   ]
  },
  {
   "cell_type": "code",
   "execution_count": null,
   "metadata": {},
   "outputs": [],
   "source": [
    "_ = df.hist('age_at_death', by='sex', sharey=True, sharex=True)"
   ]
  },
  {
   "cell_type": "code",
   "execution_count": null,
   "metadata": {},
   "outputs": [],
   "source": []
  },
  {
   "cell_type": "markdown",
   "metadata": {},
   "source": [
    "# Diagnoses\n",
    "The table `icd9` contains the conditions which patients are assigned diagnoses with. ICD-9 codes are a standardized terminology where each code represents a very specific disease. ICD-9 has been replaced with ICD-10 coding, but historical data like MIMIC still contains ICD-9. Next week we'll discuss in more detail what these codes signify. For now, let's just look at a few examples to see what diagnoses are in the database:"
   ]
  },
  {
   "cell_type": "code",
   "execution_count": null,
   "metadata": {},
   "outputs": [],
   "source": [
    "query = \"\"\"\n",
    "select * from icd9\n",
    "limit 10;\n",
    "\"\"\"\n",
    "df = pd.read_sql(query, conn)\n",
    "df.head(10)"
   ]
  },
  {
   "cell_type": "markdown",
   "metadata": {},
   "source": [
    "### TODO\n",
    "Let's look at the diagnoses for a specific patient. Write a query below to return the ICD-9 code and description for patient **286**."
   ]
  },
  {
   "cell_type": "code",
   "execution_count": null,
   "metadata": {},
   "outputs": [],
   "source": [
    "query = \"\"\"\n",
    "select * from icd9\n",
    "where ___ = ___;\n",
    "\"\"\"\n",
    "df = pd.read_sql(query, conn)\n",
    "df"
   ]
  },
  {
   "cell_type": "markdown",
   "metadata": {},
   "source": [
    "Next, let's look not just at a single patient but the entire database. Let's write a query which will count how many times an ICD-9 code occurs for any patient:\n",
    "\n",
    "### TODO\n",
    "Change the query below so that we group by code and description and limit to the 10 most frequent diagnoses."
   ]
  },
  {
   "cell_type": "code",
   "execution_count": null,
   "metadata": {},
   "outputs": [],
   "source": [
    "# What are the 10 most frequent diagnoses codes?\n",
    "query = \"\"\"\n",
    "select code, description, count(*)\n",
    "from icd9\n",
    "group by ___, ___\n",
    "order by count(*) desc\n",
    "limit ___;\n",
    "\"\"\"\n",
    "df = pd.read_sql(query, conn)\n",
    "df"
   ]
  },
  {
   "cell_type": "markdown",
   "metadata": {},
   "source": [
    "Now let's find the patients who have these 10 codes. Let's save this list of 10 codes as a Python variable and then we will add this into our query using the `.format()` method in Python:"
   ]
  },
  {
   "cell_type": "code",
   "execution_count": null,
   "metadata": {},
   "outputs": [],
   "source": [
    "top_10_codes = tuple(df['code'])\n",
    "top_10_codes"
   ]
  },
  {
   "cell_type": "code",
   "execution_count": null,
   "metadata": {},
   "outputs": [],
   "source": [
    "query = \"\"\"\n",
    "select distinct subject_id, code\n",
    "from icd9\n",
    "where code in {0}\n",
    "\"\"\".format(top_10_codes)\n",
    "print(query)"
   ]
  },
  {
   "cell_type": "code",
   "execution_count": null,
   "metadata": {},
   "outputs": [],
   "source": [
    "# Now let's run the query\n",
    "df = pd.read_sql(query, conn)\n",
    "df.head()"
   ]
  },
  {
   "cell_type": "code",
   "execution_count": null,
   "metadata": {},
   "outputs": [],
   "source": [
    "len(df)"
   ]
  },
  {
   "cell_type": "markdown",
   "metadata": {},
   "source": [
    "### TODO\n",
    "Let's plot a barplot of the 10 most common ICD-9 codes in the database.\n",
    "\n",
    "- Write a query to return the code, description, and count of each ICD-9 code (hint: you'll want to use a `group by` statement\n",
    "- Limit this query to the 10 most common codes\n",
    "- Store the results of the query in a variable called `top_10_df`\n",
    "- Call the `sns.barplot` method to plot a barplot. The x axis should be the ICD-9 codes and the y axis should be the counts"
   ]
  },
  {
   "cell_type": "code",
   "execution_count": null,
   "metadata": {},
   "outputs": [],
   "source": [
    "query = \"\"\"\n",
    "select ___, ___, ___(*) as 'count'\n",
    "from icd9\n",
    "___ ___ code, description\n",
    "order by count(*) desc\n",
    "___ ___;\n",
    "\"\"\".format(top_10_codes)\n",
    "top_10_df = pd.read_sql(query, conn)\n",
    "top_10_df"
   ]
  },
  {
   "cell_type": "code",
   "execution_count": null,
   "metadata": {},
   "outputs": [],
   "source": [
    "sns.___(x=___, y=___, data=top_10_df, ci=None)"
   ]
  },
  {
   "cell_type": "markdown",
   "metadata": {},
   "source": [
    "## Comorbidities\n",
    "We're often interested in knowing about the \"comorbidity\" of a disease. A comorbidity is a condition which a patient has in addition to another condition. For example, if a patient has diabetes and they are also diagnoses with hypertension, then these two conditions would be comorbid. \n",
    "\n",
    "This is useful if we want to understand what conditions a population of patients might be at risk for based on the conditions they already have, or for measuring how certain diseases interact.\n",
    "\n",
    "In this exercise we will calculate how frequently the 10 most common ICD-9 codes co-occur together. Because this is somewhat complicated, I've already generated the comorbidity statistics. We'll look at how to interpret this information, and for homework you'll answer some specific questions about this data."
   ]
  },
  {
   "cell_type": "code",
   "execution_count": null,
   "metadata": {},
   "outputs": [],
   "source": [
    "import helpers"
   ]
  },
  {
   "cell_type": "code",
   "execution_count": null,
   "metadata": {},
   "outputs": [],
   "source": [
    "from importlib import reload\n",
    "reload(helpers)"
   ]
  },
  {
   "cell_type": "code",
   "execution_count": null,
   "metadata": {},
   "outputs": [],
   "source": [
    "co_mtrx = helpers.create_co_mtrx(conn)\n",
    "co_mtrx"
   ]
  },
  {
   "cell_type": "code",
   "execution_count": null,
   "metadata": {},
   "outputs": [],
   "source": [
    "fig, ax = helpers.plot_co_mtrx(co_mtrx)"
   ]
  },
  {
   "cell_type": "markdown",
   "metadata": {},
   "source": [
    "### TODO\n",
    "For the first 3 diagnoses (250.00 - 428.0), identify what condition most frequently co-occurs with them. Write them in this markdown cell.\n",
    "\n",
    "- 250.00, \"DIABETES MELLITUS WITHOUT COMPLICATION TYPE II.\" -> ... \n",
    "- 401.9, \"UNSPECIFIED ESSENTIAL HYPERTENSION\" -> ...\n",
    "- 414.01, \"CORONARY ATHEROSCLEROSIS OF NATIVE CORONARY AR\" -> ..."
   ]
  },
  {
   "cell_type": "code",
   "execution_count": null,
   "metadata": {},
   "outputs": [],
   "source": []
  }
 ],
 "metadata": {
  "kernelspec": {
   "display_name": "Python 3",
   "language": "python",
   "name": "python3"
  },
  "language_info": {
   "codemirror_mode": {
    "name": "ipython",
    "version": 3
   },
   "file_extension": ".py",
   "mimetype": "text/x-python",
   "name": "python",
   "nbconvert_exporter": "python",
   "pygments_lexer": "ipython3",
   "version": "3.7.3"
  }
 },
 "nbformat": 4,
 "nbformat_minor": 2
}
