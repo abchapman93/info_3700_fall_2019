{
 "cells": [
  {
   "cell_type": "markdown",
   "metadata": {},
   "source": [
    "# Overview\n",
    "\n",
    "Last week, we discussed clinical information and how it is generated, recorded, and represented. This week we will utilize a real-world dataset of de-identified patient data, called **\"MIMIC-II\"**, which will allow us to work with real world clinical data. We'll use **SQL** to query the database and Python to visualize and transform the data.\n",
    "\n",
    "\n",
    "In this notebook we'll have a quick overview of the environments we're working in and the tools we'll be using."
   ]
  },
  {
   "cell_type": "markdown",
   "metadata": {},
   "source": [
    "# I. Jupyter Notebooks\n",
    "Jupyter Notebooks are an environment which can be used for running code, displaying results and visualizations, and sharing human-readable information. Jupyter notebooks consist of *cells* and each cell defines a single piece of code. \n",
    "\n",
    "The cell which you're reading now is called a *Markdown* cell: It is meant to be human-readable and allows formatting like:\n",
    "- Bullted or numbered lists\n",
    "- **bold text**\n",
    "- *italics*\n",
    "\n",
    "Double-click on this cell to see what the raw markdown looks like. Then run the cell by hitting either the `\"Run\"` button above (looks like a \"play\" button\") or hitting \"Shift+Enter\"."
   ]
  },
  {
   "cell_type": "code",
   "execution_count": null,
   "metadata": {},
   "outputs": [],
   "source": [
    "# This cell is a \"Code\" cell. It is meant to contain Python code to be executed\n",
    "# The '#' symbol means that this is a comment, so it won't be run like code\n",
    "# Run this cell and see what is displayed in the output:\n",
    "print(\"Hello!\")"
   ]
  },
  {
   "cell_type": "markdown",
   "metadata": {},
   "source": [
    "Note that in the code cell above, when we execute the cell it runs the single line of code and then displays the output underneath."
   ]
  },
  {
   "cell_type": "markdown",
   "metadata": {},
   "source": [
    "# II. Python\n",
    "Python is a popular general programming language. It's relatively easy to read and understand, so people often learn it as their first language. It's also great for quick development and iterations.\n",
    "\n",
    "In Python, you can display output by calling the `print` function:"
   ]
  },
  {
   "cell_type": "code",
   "execution_count": null,
   "metadata": {},
   "outputs": [],
   "source": [
    "print(\"Hello again!\")"
   ]
  },
  {
   "cell_type": "markdown",
   "metadata": {},
   "source": [
    "You can assign variables by using the `=` operator. Fill in the quotation marks below with your name and see what is printed out:"
   ]
  },
  {
   "cell_type": "code",
   "execution_count": null,
   "metadata": {},
   "outputs": [],
   "source": [
    "name = ''\n",
    "print(\"My name is: \", name)"
   ]
  },
  {
   "cell_type": "markdown",
   "metadata": {},
   "source": [
    "Variables can be of any Python datatype. Note that `my_list` is a list which can contain several other objects - in this case, it contains the variables we just defined."
   ]
  },
  {
   "cell_type": "code",
   "execution_count": null,
   "metadata": {},
   "outputs": [],
   "source": [
    "my_int = 1\n",
    "my_float = 1.43\n",
    "my_string = \"I'm a string\"\n",
    "my_list = [my_int, my_float, my_string]\n",
    "print(my_list)"
   ]
  },
  {
   "cell_type": "markdown",
   "metadata": {},
   "source": [
    "We can perform operations on these Python objects:"
   ]
  },
  {
   "cell_type": "code",
   "execution_count": null,
   "metadata": {},
   "outputs": [],
   "source": [
    "# Add two numbers together\n",
    "1 + 2"
   ]
  },
  {
   "cell_type": "code",
   "execution_count": null,
   "metadata": {},
   "outputs": [],
   "source": [
    "# Multiplication / division\n",
    "2 * 4"
   ]
  },
  {
   "cell_type": "code",
   "execution_count": null,
   "metadata": {},
   "outputs": [],
   "source": [
    "2 / 4"
   ]
  },
  {
   "cell_type": "code",
   "execution_count": null,
   "metadata": {},
   "outputs": [],
   "source": [
    "# Exponents\n",
    "2**3"
   ]
  },
  {
   "cell_type": "code",
   "execution_count": null,
   "metadata": {},
   "outputs": [],
   "source": [
    "# Add two strings together\n",
    "\"My name is \" + name"
   ]
  },
  {
   "cell_type": "markdown",
   "metadata": {},
   "source": [
    "A Python `function` is a piece of code which is predefined so that it can be run multiple times. A function takes in an **argument** (what's in parentheses after the function name) and produces a **return value**. For example, here is a function which takes two numbers and multiplies them together:"
   ]
  },
  {
   "cell_type": "code",
   "execution_count": null,
   "metadata": {},
   "outputs": [],
   "source": [
    "def multiply(a, b):\n",
    "    return a * b"
   ]
  },
  {
   "cell_type": "code",
   "execution_count": null,
   "metadata": {},
   "outputs": [],
   "source": [
    "multiply(2, 3)"
   ]
  },
  {
   "cell_type": "code",
   "execution_count": null,
   "metadata": {},
   "outputs": [],
   "source": [
    "multiply(8, 21)"
   ]
  },
  {
   "cell_type": "markdown",
   "metadata": {},
   "source": [
    "We can `import` other libraries into Python so that we can use code which other people written. For example, we'll import the `matplotlib` library and use it to generate a line plot:"
   ]
  },
  {
   "cell_type": "code",
   "execution_count": null,
   "metadata": {},
   "outputs": [],
   "source": [
    "import matplotlib.pyplot as plt\n",
    "plt.plot([0, 1, 2, 3, 4, 5], [0, 1, 4, 9, 15, 25], marker='o')\n",
    "plt.show()"
   ]
  },
  {
   "cell_type": "markdown",
   "metadata": {},
   "source": [
    "If you haven't installed a library and try to import it, you'll get an error. To install a library, you can run a `pip install` command in either a notebook or the terminal:"
   ]
  },
  {
   "cell_type": "code",
   "execution_count": null,
   "metadata": {},
   "outputs": [],
   "source": [
    "!pip install matplotlib"
   ]
  },
  {
   "cell_type": "markdown",
   "metadata": {},
   "source": [
    "# III. SQL\n",
    "SQL stands for \"Structured Query Language\". It is used to retrieve data from relational databases, perform aggregations on them, and return them in formats which are useful.\n",
    "\n",
    "Here is a very quick overview of how SQL works:"
   ]
  },
  {
   "cell_type": "markdown",
   "metadata": {},
   "source": [
    "## SQL Query\n",
    "SQL code consists of **queries** which are executed to run commands against the database you're working in. At a very basic level, queries consist of a `select` clause, a `from` clause, and a number of optional clauses clause like a `where` clause, `limit` clause, and `order by`."
   ]
  },
  {
   "cell_type": "markdown",
   "metadata": {},
   "source": [
    "## `select` statement\n",
    "This part of the query specifies which columns of data to return. For example, the following query will select the `employee_id`, `employee_first_name`, and `employee_last_name` values from an imaginary table:\n",
    "\n",
    "```\n",
    "select employee_id, employee_first_name, employee_last_name\n",
    "...\n",
    "```"
   ]
  },
  {
   "cell_type": "markdown",
   "metadata": {},
   "source": [
    "## `from` statement\n",
    "This part of the query tells SQL which tables to retreiev the data from. In this example, we want to get the employee ids and names from a table called `employees`:\n",
    "\n",
    "```\n",
    "select employee_id, employee_first_name, employee_last_name\n",
    "from employees\n",
    "...\n",
    "```"
   ]
  },
  {
   "cell_type": "markdown",
   "metadata": {},
   "source": [
    "## `where` statement\n",
    "This filters the results of our query to only look at certain values. This query will only return data for employees whose first name is \"Alex\":\n",
    "```\n",
    "select employee_id, employee_first_name, employee_last_name\n",
    "from employees\n",
    "where employee_first_name = \"Alex\"\n",
    "```"
   ]
  },
  {
   "cell_type": "markdown",
   "metadata": {},
   "source": [
    "## Other statements:\n",
    "Only the `select` and `from` statements are needed to run a query. But there are many statements which can be very useful, such as:\n",
    "- `limit 100`: Limit to the first 100 rows (or whatever number)\n",
    "- `order by last_name`: Sort the results in alphabetical order according to a specific column, such as `last_name`\n",
    "\n",
    "Here's an example of the query which puts all of these together:\n",
    "\n",
    "```\n",
    "select employee_id, employee_first_name, employee_last_name\n",
    "from employees\n",
    "where employee_first_name = \"Alex\"\n",
    "order by last_name\n",
    "limit 100;\n",
    "```"
   ]
  },
  {
   "cell_type": "markdown",
   "metadata": {},
   "source": [
    "# IV. MIMIC-II\n",
    "MIMIC is an openly available clinical database. It's **de-identified**, meaning that any information which would connect a patient to their data has been removed or altered. That means that we have access to it as researchers, students, and developers. \n",
    "\n",
    "MIMIC-II has been updated to MIMIC-III, which is similar but contains patients for living patients, while MIMIC-II has only deceased patients. MIMIC-III requires a data usage agreement, so we will instead use the older version. The two versions are very similar and contain a lot of the same data.\n",
    "\n",
    "Here is a description of MIMIC-III from the [MIMIC website](https://mimic.physionet.org/):\n",
    "\n",
    "***\n",
    "MIMIC-III (Medical Information Mart for Intensive Care III) is a large, freely-available database comprising deidentified health-related data associated with over forty thousand patients who stayed in critical care units of the Beth Israel Deaconess Medical Center between 2001 and 2012.\n",
    "\n",
    "The database includes information such as demographics, vital sign measurements made at the bedside (~1 data point per hour), laboratory test results, procedures, medications, caregiver notes, imaging reports, and mortality (both in and out of hospital).\n",
    "\n",
    "MIMIC supports a diverse range of analytic studies spanning epidemiology, clinical decision-rule improvement, and electronic tool development. It is notable for three factors:\n",
    "\n",
    "- it is freely available to researchers worldwide\n",
    "- it encompasses a diverse and very large population of ICU patients\n",
    "- it contains high temporal resolution data including lab results, electronic documentation, and bedside monitor trends and waveforms.\n",
    "***"
   ]
  },
  {
   "cell_type": "markdown",
   "metadata": {},
   "source": [
    "We will use Python and SQL to access an instance of SQL which is set up on Google Cloud. You'll need a password to access it; ask your instructor if you don't know it.\n",
    "\n",
    "First, we'll import the libraries which will allow us to connect to the database:"
   ]
  },
  {
   "cell_type": "code",
   "execution_count": null,
   "metadata": {},
   "outputs": [],
   "source": [
    "# Pandas is a library which allows us to work with tabular data from a number of different formats,\n",
    "# including SQL\n",
    "import pandas as pd\n",
    "\n",
    "# pymysql will run MySQL in Python\n",
    "import pymysql\n",
    "\n",
    "# Finally, getpass will allow us to type our password in:\n",
    "import getpass"
   ]
  },
  {
   "cell_type": "markdown",
   "metadata": {},
   "source": [
    "The host name, username, and database name have been defined for you. When prompted, enter your password:"
   ]
  },
  {
   "cell_type": "code",
   "execution_count": null,
   "metadata": {},
   "outputs": [],
   "source": [
    "conn = pymysql.connect(host=\"35.233.174.193\",port=3306,\n",
    "                       user=\"jovyan\",passwd=getpass.getpass(\"Enter password for MIMIC2 database\"),\n",
    "                       db='mimic2')"
   ]
  },
  {
   "cell_type": "markdown",
   "metadata": {},
   "source": [
    "If you didn't get an error, then that means it worked! Let's run our first query against MIMIC to see what tables are in the database:"
   ]
  },
  {
   "cell_type": "code",
   "execution_count": null,
   "metadata": {
    "scrolled": true
   },
   "outputs": [],
   "source": [
    "# Define a query as a string\n",
    "query = \"\"\"\n",
    "show tables;\n",
    "\"\"\"\n",
    "\n",
    "# Pass the query and our MySQL connection to pandas. \n",
    "# Store the result a variable called df (DataFrame)\n",
    "df = pd.read_sql(query, conn)\n",
    "df"
   ]
  },
  {
   "cell_type": "markdown",
   "metadata": {},
   "source": [
    "# TODO and Discussion items\n",
    "Throughout these notebooks, you'll see sections marked **TODO** or **Discussion**. Whenever you see a todo section, you'll be asked to edit or complete code. Parts of code which you need to edit will have placeholders of three underscores: `___`. You should replace these underscores with the correct snippet of code.\n",
    "\n",
    "For example, if you are asked to edit the cell below to print out the text \"Hello, world!\", you should change this cell (which won't run):"
   ]
  },
  {
   "cell_type": "code",
   "execution_count": null,
   "metadata": {},
   "outputs": [],
   "source": [
    "___(\"Hello, world!\")"
   ]
  },
  {
   "cell_type": "markdown",
   "metadata": {},
   "source": [
    "To this:"
   ]
  },
  {
   "cell_type": "code",
   "execution_count": null,
   "metadata": {},
   "outputs": [],
   "source": [
    "print(\"Hello, world!\")"
   ]
  }
 ],
 "metadata": {
  "kernelspec": {
   "display_name": "Python 3",
   "language": "python",
   "name": "python3"
  },
  "language_info": {
   "codemirror_mode": {
    "name": "ipython",
    "version": 3
   },
   "file_extension": ".py",
   "mimetype": "text/x-python",
   "name": "python",
   "nbconvert_exporter": "python",
   "pygments_lexer": "ipython3",
   "version": "3.7.3"
  }
 },
 "nbformat": 4,
 "nbformat_minor": 2
}
