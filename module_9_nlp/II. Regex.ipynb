{
 "cells": [
  {
   "cell_type": "markdown",
   "metadata": {
    "collapsed": true
   },
   "source": [
    "# Regular Expression for Concept Extraction"
   ]
  },
  {
   "cell_type": "markdown",
   "metadata": {},
   "source": [
    "## Language\n",
    "\n",
    "With language, we use a large, but finite vocabulary to describe the world. These descriptions are composed of words and phrases that can be predicted with some regularity. For instance, when describing 'infiltration', we can use phrases like  'infiltration', 'infiltrate', 'infiltrated', etc. written using letters that are placed together with some regularity. We can readily identify the infiltration written with these three expressions by identifying the pattern for constructing these lexical variants. What do these three words have in common? \n"
   ]
  },
  {
   "cell_type": "markdown",
   "metadata": {},
   "source": [
    "$${\\bf infiltrat}e$$\n",
    "$${\\bf infiltrat}ed$$\n",
    "$${\\bf infiltrat}ion$$"
   ]
  },
  {
   "cell_type": "markdown",
   "metadata": {},
   "source": [
    "## Representing patterns\n",
    "\n",
    "Regular expressions (aka *regex*) are string statements that represent the patterns you would like to **match** or **extract**. Regex is a powerful and commonly used tool for natural language processing and has been used for several tasks:\n",
    "\n",
    "* identify and classify a patient's smoking status\n",
    "* extract family history information for genetic studies\n",
    "* redacting patient protected health information from text for research\n",
    "* parsing an excel spreadsheet to generate population statistics about childhood asthma\n",
    "\n",
    "For this lesson, we will complete a high-level overview of regexs to see how we can match and extract strings of text. Next week we'll apply these methods to identify mentions of pneumonia in clinical text.\n",
    "\n",
    "For more detailed documentation and explanations, please see the <a href=\"https://docs.python.org/3/library/re.html\">Python regex documentation</a>\n",
    "\n",
    "Let's get started - we will start by importing the re module from the python package."
   ]
  },
  {
   "cell_type": "code",
   "execution_count": null,
   "metadata": {},
   "outputs": [],
   "source": [
    "import re\n",
    "from IPython.display import display, Math, Latex"
   ]
  },
  {
   "cell_type": "markdown",
   "metadata": {},
   "source": [
    "## Applying regexs\n",
    "\n",
    "There are several ways a regex pattern. We'll mostly stick with the function `findall`:\n",
    "\n",
    "$$matches = re.findall(pattern, string)$$\n",
    "\n",
    "This function takes two arguments:\n",
    "- `pattern`: The regular expression pattern\n",
    "- `string`: The string to search through\n",
    "\n",
    "This function will search through the entire text and return any matches in that string.\n",
    "\n",
    "For example, let's look for **\"cardiovascular\"** in this string:"
   ]
  },
  {
   "cell_type": "code",
   "execution_count": null,
   "metadata": {},
   "outputs": [],
   "source": [
    "text = \"cardiovascular: patient has cardiovascular disease. Will work with his cardiologist to establish a regiment.\"\n",
    "re.findall('cardiovascular', text)"
   ]
  },
  {
   "cell_type": "markdown",
   "metadata": {},
   "source": [
    "Let's look for the shorter string **\"cardio\"**:"
   ]
  },
  {
   "cell_type": "code",
   "execution_count": null,
   "metadata": {},
   "outputs": [],
   "source": [
    "re.findall('cardio', text)"
   ]
  },
  {
   "cell_type": "markdown",
   "metadata": {},
   "source": [
    "## Simple expressions\n",
    "The simplest regular expressions are very easy to understand.  They will just match any sequence of characters that match the pattern that you provide.  Let's do a few examples of that:"
   ]
  },
  {
   "cell_type": "code",
   "execution_count": null,
   "metadata": {},
   "outputs": [],
   "source": [
    "re.findall('and', \"We walked and walked and walked.\")"
   ]
  },
  {
   "cell_type": "code",
   "execution_count": null,
   "metadata": {},
   "outputs": [],
   "source": [
    "re.findall('walked', \"We walked and walked and walked.\")"
   ]
  },
  {
   "cell_type": "markdown",
   "metadata": {},
   "source": [
    "## Case sensititivity\n",
    "Note that regular expressions are very explicit in what they match.  This includes character case sensivity (i.e. lowercase and upper case characters.\n",
    "\n",
    "Given this, will the expression below find a match?"
   ]
  },
  {
   "cell_type": "code",
   "execution_count": null,
   "metadata": {},
   "outputs": [],
   "source": [
    "re.findall('pneumonia', \"Pneumonia reports were inconclusive\")"
   ]
  },
  {
   "cell_type": "markdown",
   "metadata": {},
   "source": [
    "One way to get around this by using the IGNORECASE flag, which won't distinguish between lower- and upper-case letters:"
   ]
  },
  {
   "cell_type": "code",
   "execution_count": null,
   "metadata": {},
   "outputs": [],
   "source": [
    "re.findall('pneumonia', \"Pneumonia reports were inconclusive\", flags=re.IGNORECASE)"
   ]
  },
  {
   "cell_type": "markdown",
   "metadata": {},
   "source": [
    "## Character Classes\n",
    "Often, we won't necessarily want to match one exact character, but instead match any of a set of characters. We can do that in **character classes**, where we enclose a number of characters in square brackets. Python will then match any character within those brackets. \n",
    "\n",
    "* [pP] = Lowercase p or Uppercase P\n",
    "* [abcde]  = Lowercase a, b, c, d, or e"
   ]
  },
  {
   "cell_type": "code",
   "execution_count": null,
   "metadata": {},
   "outputs": [],
   "source": [
    "re.findall('[pP]neumonia', \"Pneumonia reports were inconclusive\")"
   ]
  },
  {
   "cell_type": "code",
   "execution_count": null,
   "metadata": {},
   "outputs": [],
   "source": [
    "re.findall('[abcde]', 'abcdefghijklmnop')"
   ]
  },
  {
   "cell_type": "markdown",
   "metadata": {},
   "source": [
    "Alternatively a range of characters be specified like this : \n",
    "\n",
    "* [a-e] = Any character between lowercase a and lowercase e (this is equivalent to the example above"
   ]
  },
  {
   "cell_type": "code",
   "execution_count": null,
   "metadata": {},
   "outputs": [],
   "source": [
    "text = \"Which of these 46 characters will this return?\""
   ]
  },
  {
   "cell_type": "code",
   "execution_count": null,
   "metadata": {
    "scrolled": true
   },
   "outputs": [],
   "source": [
    "re.findall(\"[a-l]\", text)"
   ]
  },
  {
   "cell_type": "code",
   "execution_count": null,
   "metadata": {},
   "outputs": [],
   "source": [
    "re.findall(\"[m-z]\", text)"
   ]
  },
  {
   "cell_type": "markdown",
   "metadata": {},
   "source": [
    "*Sequencing range* additional examples include:\n",
    "- [0-9] = any number between 0 and 9 e.g, 0,1,2,3,4,5..9\n",
    "- [A-Z] - any upper-case letters\n",
    "- [a-zA-Z0-0] - all of the above"
   ]
  },
  {
   "cell_type": "code",
   "execution_count": null,
   "metadata": {},
   "outputs": [],
   "source": [
    "re.findall(\"[0-9]\", text)"
   ]
  },
  {
   "cell_type": "code",
   "execution_count": null,
   "metadata": {
    "scrolled": true
   },
   "outputs": [],
   "source": [
    "re.findall(\"[0-9a-zA-Z]\", text)"
   ]
  },
  {
   "cell_type": "markdown",
   "metadata": {},
   "source": [
    "# \"OR\" matching and groups\n",
    "Regular expresions are powerful since there are special characters that allow for matching multiple sequences or regular expressions at once:\n",
    "\n",
    "* | = match either regular expression on either side of the | symbol  \n",
    "\n",
    "From the Python documentation linked above : 'A|B, where A and B can be arbitrary REs, creates a regular expression that will match either A or B. An arbitrary number of REs can be separated by the '|' in this way'.\n",
    "\n",
    "If we put a list of different options in parentheses **()** and separate the list by \"|\", then we will match any of the strings within the parentheses."
   ]
  },
  {
   "cell_type": "code",
   "execution_count": null,
   "metadata": {},
   "outputs": [],
   "source": [
    "color_text = 'i love the colors blue, green, red and purple but I do not like orange.'\n",
    "\n",
    "color_expression = '(blue|green|red|purple)'\n",
    "color_matches = re.findall(color_expression, color_text)\n",
    "\n",
    "print(color_matches)"
   ]
  },
  {
   "cell_type": "markdown",
   "metadata": {},
   "source": [
    "# Quiz : \"OR\" matching\n",
    "\n",
    "Change the regular expression below so that 'hair' is also part of the match"
   ]
  },
  {
   "cell_type": "code",
   "execution_count": null,
   "metadata": {},
   "outputs": [],
   "source": [
    "anatomy_text = 'Patient physical showed that they had heart, head, nose, mouth and hair'\n",
    "\n",
    "# update the regular expression below so that 'hair' is matched by the code below\n",
    "anatomy_expression = '(heart|head|nose|mouth|hair)'\n",
    "\n",
    "anatomy_matches = re.findall(anatomy_expression, anatomy_text)\n",
    "\n",
    "print('Anatomy matches : ' + str(anatomy_matches))"
   ]
  },
  {
   "cell_type": "markdown",
   "metadata": {},
   "source": [
    "# Quantifiers\n",
    "It isn't very useful to get all of those matches as individual matches. For example, if we're searching for numbers in a text and see **\"46\"**, we probably don't want to get **\"4\"** and **\"6\"** separately: we want **\"46\"**. To do this, we can provide an quantifer to specify how many of the characters we want to include in a span:\n",
    "\n",
    "- **\\*** : match 0 or more\n",
    "- **?** : match 0 or 1\n",
    "- **+** : match 1 or more"
   ]
  },
  {
   "cell_type": "code",
   "execution_count": null,
   "metadata": {},
   "outputs": [],
   "source": [
    "text = \"patient is a 91-year old male with 2 broken fingers.\""
   ]
  },
  {
   "cell_type": "code",
   "execution_count": null,
   "metadata": {},
   "outputs": [],
   "source": [
    "re.findall('[0-9]', text)"
   ]
  },
  {
   "cell_type": "code",
   "execution_count": null,
   "metadata": {},
   "outputs": [],
   "source": [
    "re.findall('[0-9]+', text)"
   ]
  },
  {
   "cell_type": "code",
   "execution_count": null,
   "metadata": {},
   "outputs": [],
   "source": [
    "re.findall('[a-z]+', text)"
   ]
  },
  {
   "cell_type": "code",
   "execution_count": null,
   "metadata": {},
   "outputs": [],
   "source": [
    "re.findall('[a-z0-9]+', text)"
   ]
  },
  {
   "cell_type": "markdown",
   "metadata": {},
   "source": [
    "To practice this, let's look at these three texts:"
   ]
  },
  {
   "cell_type": "code",
   "execution_count": null,
   "metadata": {},
   "outputs": [],
   "source": [
    "texts = [\n",
    "    \"sheep say 'b'\",\n",
    "    \"sheep say 'ba'\",\n",
    "    \"sheep say 'baaaaaaaaaa'\",\n",
    "]"
   ]
  },
  {
   "cell_type": "markdown",
   "metadata": {},
   "source": [
    "First, write a pattern to match \"b\" and \"ba\", but not \"baaaaaaaaaa\""
   ]
  },
  {
   "cell_type": "code",
   "execution_count": null,
   "metadata": {},
   "outputs": [],
   "source": [
    "pattern = ___\n",
    "for text in texts:\n",
    "    print(re.findall(pattern, text))"
   ]
  },
  {
   "cell_type": "markdown",
   "metadata": {},
   "source": [
    "Now, write a pattern which will match \"ba\" and \"baaaaaaaaaa\", but not \"b\""
   ]
  },
  {
   "cell_type": "code",
   "execution_count": null,
   "metadata": {},
   "outputs": [],
   "source": [
    "pattern = ___\n",
    "for text in texts:\n",
    "    print(re.findall(pattern, text))"
   ]
  },
  {
   "cell_type": "markdown",
   "metadata": {},
   "source": [
    "Finally, write a pattern which will match all 3:"
   ]
  },
  {
   "cell_type": "code",
   "execution_count": null,
   "metadata": {},
   "outputs": [],
   "source": [
    "pattern = ___\n",
    "for text in texts:\n",
    "    print(re.findall(pattern, text))"
   ]
  },
  {
   "cell_type": "markdown",
   "metadata": {},
   "source": [
    "## Back to our initial motivating example... \n",
    "At the beginning of this notebook we listed this example which is relevant to our pneumonia work:"
   ]
  },
  {
   "cell_type": "markdown",
   "metadata": {},
   "source": [
    "$${\\bf infiltrat}e$$\n",
    "$${\\bf infiltrat}ed$$\n",
    "$${\\bf infiltrat}ion$$"
   ]
  },
  {
   "cell_type": "code",
   "execution_count": null,
   "metadata": {},
   "outputs": [],
   "source": [
    "infiltrate_text = 'The infiltrate then infiltrated the thing resulting infiltration'"
   ]
  },
  {
   "cell_type": "markdown",
   "metadata": {},
   "source": [
    "So how can we match these 3 words?  There are a number of ways:"
   ]
  },
  {
   "cell_type": "markdown",
   "metadata": {
    "collapsed": true
   },
   "source": [
    "*Option 1:* Include all 3 words in a single pattern separated by \"|\""
   ]
  },
  {
   "cell_type": "code",
   "execution_count": null,
   "metadata": {},
   "outputs": [],
   "source": [
    "infiltrate_expression_1 = r'infiltrate|infiltrated|infiltration'"
   ]
  },
  {
   "cell_type": "code",
   "execution_count": null,
   "metadata": {},
   "outputs": [],
   "source": [
    "re.findall(infiltrate_expression_1, infiltrate_text)"
   ]
  },
  {
   "cell_type": "code",
   "execution_count": null,
   "metadata": {},
   "outputs": [],
   "source": [
    "infiltrate_expression_2 = r'infiltrat(e|ed|ion)'"
   ]
  },
  {
   "cell_type": "code",
   "execution_count": null,
   "metadata": {},
   "outputs": [],
   "source": [
    "re.findall(infiltrate_expression_2, infiltrate_text)"
   ]
  },
  {
   "cell_type": "markdown",
   "metadata": {},
   "source": [
    "**Wait** - that doesn't look right.\n",
    "\n",
    "Since the second regular expression has Regular Expression \"groups\" with parentheses, a call to findall() would show us each captured group. Instead, we have to iterate through and show the spans:"
   ]
  },
  {
   "cell_type": "code",
   "execution_count": null,
   "metadata": {},
   "outputs": [],
   "source": [
    "infiltrate_iter = re.finditer(infiltrate_expression_2, infiltrate_text)\n",
    "\n",
    "for i in infiltrate_iter:\n",
    "    print(i.group())"
   ]
  },
  {
   "cell_type": "markdown",
   "metadata": {},
   "source": [
    "<br/><br/>This material was originally presented as part of the DeCART Data Science for the Health Science Summer Program at the University of Utah in 2017.<br/>\n",
    "Presenters : Dr. Wendy Chapman, Jianlin Shi and Kelly Peterson"
   ]
  }
 ],
 "metadata": {
  "kernelspec": {
   "display_name": "Python 3",
   "language": "python",
   "name": "python3"
  },
  "language_info": {
   "codemirror_mode": {
    "name": "ipython",
    "version": 3
   },
   "file_extension": ".py",
   "mimetype": "text/x-python",
   "name": "python",
   "nbconvert_exporter": "python",
   "pygments_lexer": "ipython3",
   "version": "3.7.4"
  },
  "widgets": {
   "state": {},
   "version": "1.1.1"
  }
 },
 "nbformat": 4,
 "nbformat_minor": 1
}
