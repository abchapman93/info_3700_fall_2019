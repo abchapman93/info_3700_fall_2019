{
 "cells": [
  {
   "cell_type": "code",
   "execution_count": 1,
   "metadata": {},
   "outputs": [],
   "source": [
    "import pandas as pd\n",
    "import getpass\n",
    "\n",
    "import re\n",
    "import matplotlib.pyplot as plt\n",
    "\n",
    "import helpers"
   ]
  },
  {
   "cell_type": "code",
   "execution_count": 2,
   "metadata": {},
   "outputs": [],
   "source": [
    "import sys"
   ]
  },
  {
   "cell_type": "code",
   "execution_count": 3,
   "metadata": {},
   "outputs": [
    {
     "name": "stdout",
     "output_type": "stream",
     "text": [
      "Enter password for MIMIC2 database········\n",
      "Importing pymysql failed. Using cached data instead\n"
     ]
    }
   ],
   "source": [
    "try:\n",
    "    import pymysql\n",
    "    conn = pymysql.connect(host=\"35.233.174.193\",port=3306,\n",
    "                           user=\"jovyan\",passwd=getpass.getpass(\"Enter password for MIMIC2 database\"),\n",
    "                           db='mimic2')\n",
    "    CACHED = False\n",
    "except Exception as e:\n",
    "    print(\"Importing pymysql failed. Using cached data instead\")\n",
    "    CACHED = True"
   ]
  },
  {
   "cell_type": "markdown",
   "metadata": {},
   "source": [
    "# Clinical Notes\n",
    "One of the most information-rich sources of clinical data are free-text clinical notes. These are written narratives which discuss many topics of a patient's care, such as diagnoses, history, treatment, complications, etc... Free-text notes offer very detailed accounts of a patient's clinical course, making them very useful for many purposes. However, free text is not inherently meaningful. Unlike ICD-9 or LOINC codes, clinical language does not offer standardized representations of clinical concepts, and unlike vitals and labs, the information found in text cannot be easily quantified and represented in a computable way.\n",
    "\n",
    "The field of **natural language processing** offers methods for dealing with text and extracting **structured information** from an **unstructured data source**. Later in the semester we'll have a module specifically devoted to NLP. Today we'll look at a couple of text processing methods which give us some insight into the information contained in text.\n",
    "\n",
    "## Note types\n",
    "There are many different types of notes in the clinical domain. Each note contains different information, often specific to clinical specialties like cardiology or surgery. One such specialty is radiology. MIMIC-II contains a large number of **radiology reports** which contain a radiologist's interpretation of an image. For example, if a physician suspects a patient has pneumonia, they might order a CT scan. The radiologist will view the image from the scan and determine whether or not has a patient has pneumonia."
   ]
  },
  {
   "cell_type": "markdown",
   "metadata": {},
   "source": [
    "## Querying notes\n",
    "Clinical notes are contained in the table `noteevents`. We'll specifically query radiology notes. Additionally, since there are a large number of notes we'll limit our queries to only look at 1000 notes, although later we'll use a language model which was trained using all of the radiology notes in the database.\n",
    "\n",
    "### TODO\n",
    "Finish the query below to query the `noteevents` table and limit the results to notes where the category is \"RADIOLOGY_REPORT\"."
   ]
  },
  {
   "cell_type": "code",
   "execution_count": 4,
   "metadata": {},
   "outputs": [],
   "source": [
    "query = \"\"\"\n",
    "select text from noteevents\n",
    "where category = 'RADIOLOGY_REPORT'\n",
    "limit 1000;\n",
    "\"\"\""
   ]
  },
  {
   "cell_type": "code",
   "execution_count": 9,
   "metadata": {},
   "outputs": [
    {
     "name": "stdout",
     "output_type": "stream",
     "text": [
      "Reading saved files\n"
     ]
    }
   ],
   "source": [
    "# If we were able to import pymysql, we'll query MIMIC-II\n",
    "if not CACHED:\n",
    "    print(\"Querying MIMIC\")\n",
    "    df = pd.read_sql(query, conn)\n",
    "# Otherwise, we'll use a smaller sample of documents in the repo\n",
    "else:\n",
    "    print(\"Reading saved files\")\n",
    "    df = helpers.read_pneumonia_documents('./pneumonia_data/training_v2/')"
   ]
  },
  {
   "cell_type": "code",
   "execution_count": 10,
   "metadata": {},
   "outputs": [
    {
     "data": {
      "text/plain": [
       "70"
      ]
     },
     "execution_count": 10,
     "metadata": {},
     "output_type": "execute_result"
    }
   ],
   "source": [
    "len(df)"
   ]
  },
  {
   "cell_type": "code",
   "execution_count": 11,
   "metadata": {},
   "outputs": [
    {
     "data": {
      "text/html": [
       "<div>\n",
       "<style scoped>\n",
       "    .dataframe tbody tr th:only-of-type {\n",
       "        vertical-align: middle;\n",
       "    }\n",
       "\n",
       "    .dataframe tbody tr th {\n",
       "        vertical-align: top;\n",
       "    }\n",
       "\n",
       "    .dataframe thead th {\n",
       "        text-align: right;\n",
       "    }\n",
       "</style>\n",
       "<table border=\"1\" class=\"dataframe\">\n",
       "  <thead>\n",
       "    <tr style=\"text-align: right;\">\n",
       "      <th></th>\n",
       "      <th>text</th>\n",
       "    </tr>\n",
       "  </thead>\n",
       "  <tbody>\n",
       "    <tr>\n",
       "      <td>0</td>\n",
       "      <td>\\n\\n\\n     DATE: [**2717-5-23**] 12:06 PM\\n   ...</td>\n",
       "    </tr>\n",
       "    <tr>\n",
       "      <td>1</td>\n",
       "      <td>\\n\\n\\n     DATE: [**3368-3-20**] 11:46 AM\\n   ...</td>\n",
       "    </tr>\n",
       "    <tr>\n",
       "      <td>2</td>\n",
       "      <td>\\n\\n\\n     DATE: [**3106-8-10**] 11:46 AM\\n   ...</td>\n",
       "    </tr>\n",
       "    <tr>\n",
       "      <td>3</td>\n",
       "      <td>\\n\\n\\n     DATE: [**3469-9-13**] 6:54 PM\\n    ...</td>\n",
       "    </tr>\n",
       "    <tr>\n",
       "      <td>4</td>\n",
       "      <td>\\n\\n\\n     DATE: [**3346-10-31**] 4:35 PM\\n   ...</td>\n",
       "    </tr>\n",
       "  </tbody>\n",
       "</table>\n",
       "</div>"
      ],
      "text/plain": [
       "                                                text\n",
       "0  \\n\\n\\n     DATE: [**2717-5-23**] 12:06 PM\\n   ...\n",
       "1  \\n\\n\\n     DATE: [**3368-3-20**] 11:46 AM\\n   ...\n",
       "2  \\n\\n\\n     DATE: [**3106-8-10**] 11:46 AM\\n   ...\n",
       "3  \\n\\n\\n     DATE: [**3469-9-13**] 6:54 PM\\n    ...\n",
       "4  \\n\\n\\n     DATE: [**3346-10-31**] 4:35 PM\\n   ..."
      ]
     },
     "execution_count": 11,
     "metadata": {},
     "output_type": "execute_result"
    }
   ],
   "source": [
    "df.head()"
   ]
  },
  {
   "cell_type": "markdown",
   "metadata": {},
   "source": [
    "Let's take a quick look at what one of these notes looks like:"
   ]
  },
  {
   "cell_type": "code",
   "execution_count": 12,
   "metadata": {},
   "outputs": [
    {
     "name": "stdout",
     "output_type": "stream",
     "text": [
      "\n",
      "\n",
      "\n",
      "     DATE: [**2717-5-23**] 12:06 PM\n",
      "     CHEST (PORTABLE AP); -76 BY SAME PHYSICIAN                      [**Name Initial (PRE) 58**] # [**Clip Number (Radiology) 4359**]\n",
      "     Reason: s/p brochoscopy                                             \n",
      "     Admitting Diagnosis: S/P FALL\n",
      "     ______________________________________________________________________________\n",
      "     UNDERLYING MEDICAL CONDITION:\n",
      "        83 year old F w/ MS s/p fall. now intubated w/ desats.    leukocytosis.       \n",
      "                                               \n",
      "     REASON FOR THIS EXAMINATION:\n",
      "      s/p brochoscopy                                                                 \n",
      "     ______________________________________________________________________________\n",
      "                                     FINAL REPORT\n",
      "     INDICATION:  MS status post fall, now intubated with desaturations and\n",
      "     leukocytosis, status post bronchoscopy.\n",
      "     \n",
      "     COMPARISON:  [**2717-5-23**] at 8:51 a.m.\n",
      "     \n",
      "     TECHNIQUE:  Single AP portable supine chest.\n",
      "     \n",
      "     FINDINGS:  Since the examination of several hours earlier, the endotracheal\n",
      "     tube, nasogastric tube, and right subclavian venous access catheter appear in\n",
      "     unchanged position.  Heart size and mediastinal contours are unchanged.  There\n",
      "     is continued improvement in mild congestive heart failure.  Right pleural\n",
      "     effusion unchanged in size.  Note is again made of biapical pleural\n",
      "     thickening.  No pneumothorax.\n",
      "     \n",
      "     IMPRESSION:  Improving congestive heart failure and stable right pleural\n",
      "     effusion.  Lines and tubes in unchanged position.\n",
      "                                                                           \n",
      "\n",
      "\n"
     ]
    }
   ],
   "source": [
    "print(df['text'].iloc[0])"
   ]
  },
  {
   "cell_type": "markdown",
   "metadata": {},
   "source": [
    "# Keyword search\n",
    "One of the most basic things we can do with free text is to do a **keyword search**. Similar to a Google search, we want to find a set of documents which contain a specific phrase. In SQL, we can do this by using the `like` statement, which allows you to use wildcards. For example, the SQL clause `where text like %adve%` would return documents containing the words \"adventure\", \"adventures\", \"advertisement\", \"advertise\", etc...\n",
    "\n",
    "### TODO\n",
    "Limit the query below to only return documents where the text contains the word \"pneumonia\"."
   ]
  },
  {
   "cell_type": "code",
   "execution_count": 13,
   "metadata": {},
   "outputs": [],
   "source": [
    "query = \"\"\"\n",
    "select subject_id, text from noteevents\n",
    "where category = 'RADIOLOGY_REPORT'\n",
    "    and text like '%pneumonia%'\n",
    "limit 100\n",
    "\"\"\""
   ]
  },
  {
   "cell_type": "code",
   "execution_count": 14,
   "metadata": {},
   "outputs": [],
   "source": [
    "if not CACHED:\n",
    "    df = pd.read_sql(query, conn)\n",
    "else: # Use a Regex filter in pandas\n",
    "    df = df[df['text'].str.contains('pneumonia')]"
   ]
  },
  {
   "cell_type": "markdown",
   "metadata": {},
   "source": [
    "Read through a few examples of the document. Where is pneumonia discussed? Do the patients actually have pneumonia? If not, why is it being mentioned?"
   ]
  },
  {
   "cell_type": "code",
   "execution_count": 15,
   "metadata": {},
   "outputs": [
    {
     "name": "stdout",
     "output_type": "stream",
     "text": [
      "\n",
      "\n",
      "\n",
      "     DATE: [**3368-3-20**] 11:46 AM\n",
      "     CHEST (PORTABLE AP)                                             Clip # [**Clip Number (Radiology) 2871**]\n",
      "     Reason: fever, hypoxia, tachypnea- s/p AKA one week ago\n",
      "     ______________________________________________________________________________\n",
      "     UNDERLYING MEDICAL CONDITION:\n",
      "      [**Age over 90 **] year old woman with \n",
      "     REASON FOR THIS EXAMINATION:\n",
      "      fever, hypoxia, tachypnea- s/p AKA one week ago\n",
      "     ______________________________________________________________________________\n",
      "                                     FINAL REPORT\n",
      "     INDICATION:  Fever, hypoxia, tachypnea.\n",
      "     \n",
      "     COMPARISON:  [**3368-3-9**].\n",
      "     \n",
      "     SINGLE VIEW CHEST, AP:  There has been interval opacification within the left\n",
      "     lower lobe consistent with consolidation.  The pulmonary vasculature is within\n",
      "     normal limits.  The cardiac, mediastinal and hilar contours are unchanged with\n",
      "     unfolding of the aorta and wall calcifications.  There may be a left-sided\n",
      "     pleural effusion also.\n",
      "     \n",
      "     IMPRESSION:  Left lower lobe pneumonia.\n",
      "\n",
      "\n"
     ]
    }
   ],
   "source": [
    "print(df.iloc[0]['text'])"
   ]
  },
  {
   "cell_type": "markdown",
   "metadata": {},
   "source": [
    "## Text processing\n",
    "Before doing any sort of computation with these texts, there are a number of steps to take to make the data easier to work with. Clinical text is **very** messy: it is very inconsistent, confusing, and often ugly. **Preprocessing** is where we clean up the text a little bit. Some possible steps for preprocessing include:\n",
    "- Converting the text to lower case\n",
    "- Replacing **\"stop words\"**: words or phrases which occur so often that they don't contain any useful information (\"and\", \"or\", \"the\", etc...)\n",
    "- Merging phrases of 2 or more words\n",
    "- Splitting texts into **\"tokens\"** (ie., individual words)"
   ]
  },
  {
   "cell_type": "code",
   "execution_count": 16,
   "metadata": {},
   "outputs": [],
   "source": [
    "import text_processing"
   ]
  },
  {
   "cell_type": "code",
   "execution_count": 17,
   "metadata": {},
   "outputs": [
    {
     "name": "stderr",
     "output_type": "stream",
     "text": [
      "[nltk_data] Downloading package punkt to /Users/alec/nltk_data...\n",
      "[nltk_data]   Package punkt is already up-to-date!\n"
     ]
    },
    {
     "data": {
      "text/plain": [
       "True"
      ]
     },
     "execution_count": 17,
     "metadata": {},
     "output_type": "execute_result"
    }
   ],
   "source": [
    "# Run this command to download some data needed for text processing:\n",
    "import nltk\n",
    "nltk.download('punkt')"
   ]
  },
  {
   "cell_type": "code",
   "execution_count": 18,
   "metadata": {},
   "outputs": [],
   "source": [
    "# Original texts\n",
    "texts = list(df['text'])"
   ]
  },
  {
   "cell_type": "code",
   "execution_count": 19,
   "metadata": {},
   "outputs": [],
   "source": [
    "# Preprocessed texts\n",
    "preprocessed_texts = [text_processing.preprocess(text) for text in texts]"
   ]
  },
  {
   "cell_type": "code",
   "execution_count": 20,
   "metadata": {},
   "outputs": [],
   "source": [
    "# Tokenized texts\n",
    "tokenized_texts = [text_processing.tokenize(text, rm_stopwords=True) for text in preprocessed_texts]"
   ]
  },
  {
   "cell_type": "code",
   "execution_count": 21,
   "metadata": {},
   "outputs": [
    {
     "name": "stdout",
     "output_type": "stream",
     "text": [
      "\n",
      "\n",
      "\n",
      "     DATE: [**3368-3-20**] 11:46 AM\n",
      "     CHEST (PORTABLE AP)                                             Clip # [**Clip Number (Radiology) 2871**]\n",
      "     Reason: fever, hypoxia, tachypnea- s/p AKA one week ago\n",
      "     ______________________________________________________________________________\n",
      "     UNDERLYING MEDICAL CONDITION:\n",
      "      [**Age over 90 **] year old woman with \n",
      "     REASON FOR THIS EXAMINATION:\n",
      "      fever, hypoxia, tachypnea- s/p AKA one week ago\n",
      "     ______________________________________________________________________________\n",
      "                                     FINAL REPORT\n",
      "     INDICATION:  Fever, hypoxia, tachypnea.\n",
      "     \n",
      "     COMPARISON:  [**3368-3-9**].\n",
      "     \n",
      "     SINGLE VIEW CHEST, AP:  There has been interval opacification within the left\n",
      "     lower lobe consistent with consolidation.  The pulmonary vasculature is within\n",
      "     normal limits.  The cardiac, mediastinal and hilar contours are unchanged with\n",
      "     unfolding of the aorta and wall calcifications.  There may be a left-sided\n",
      "     pleural effusion also.\n",
      "     \n",
      "     IMPRESSION:  Left lower lobe pneumonia.\n",
      "\n",
      "\n"
     ]
    }
   ],
   "source": [
    "print(texts[0])"
   ]
  },
  {
   "cell_type": "code",
   "execution_count": 22,
   "metadata": {},
   "outputs": [
    {
     "name": "stdout",
     "output_type": "stream",
     "text": [
      "\n",
      "\n",
      "\n",
      "     date   am\n",
      "     chest portable ap                                              \n",
      "     reason fever hypoxia tachypnea- s/p aka one week ago\n",
      "     \n",
      "     underlying_medical_condition\n",
      "       year old woman with \n",
      "     reason_for_this_examination\n",
      "      fever hypoxia tachypnea- s/p aka one week ago\n",
      "     \n",
      "                                     final_report\n",
      "     indication  fever hypoxia tachypnea\n",
      "     \n",
      "     comparison  \n",
      "     \n",
      "     single view chest ap  there has been interval opacification within the left\n",
      "     lower lobe consistent with consolidation  the pulmonary vasculature is within\n",
      "     normal limits  the cardiac mediastinal and hilar contours are unchanged with\n",
      "     unfolding of the aorta and wall calcifications  there may be a left-sided\n",
      "     pleural effusion also\n",
      "     \n",
      "     impression  left lower lobe pneumonia\n",
      "\n",
      "\n"
     ]
    }
   ],
   "source": [
    "print(preprocessed_texts[0])"
   ]
  },
  {
   "cell_type": "code",
   "execution_count": 23,
   "metadata": {},
   "outputs": [
    {
     "name": "stdout",
     "output_type": "stream",
     "text": [
      "['date', 'chest', 'portable', 'ap', 'reason', 'fever', 'hypoxia', 'tachypnea-', 's/p', 'aka', 'one', 'week', 'ago', 'underlying_medical_condition', 'year', 'old', 'woman', 'reason_for_this_examination', 'fever', 'hypoxia', 'tachypnea-', 's/p', 'aka', 'one', 'week', 'ago', 'final_report', 'indication', 'fever', 'hypoxia', 'tachypnea', 'comparison', 'single', 'view', 'chest', 'ap', 'interval', 'opacification', 'within', 'left', 'lower', 'lobe', 'consistent', 'consolidation', 'pulmonary', 'vasculature', 'within', 'normal', 'limits', 'cardiac', 'mediastinal', 'hilar', 'contours', 'unchanged', 'unfolding', 'aorta', 'wall', 'calcifications', 'may', 'left-sided', 'pleural', 'effusion', 'also', 'impression', 'left', 'lower', 'lobe', 'pneumonia']\n"
     ]
    }
   ],
   "source": [
    "print(tokenized_texts[0])"
   ]
  },
  {
   "cell_type": "markdown",
   "metadata": {},
   "source": [
    "# Simple word counts\n",
    "Now that we've preprocessed our text, we can do some very basic operations on it. Let's count how many times each word occurs and see what the most frequent words are. This will be useful for getting a high-level sense of what information is in our corpus."
   ]
  },
  {
   "cell_type": "code",
   "execution_count": 24,
   "metadata": {},
   "outputs": [],
   "source": [
    "from collections import defaultdict\n",
    "counter = defaultdict(int)"
   ]
  },
  {
   "cell_type": "code",
   "execution_count": 25,
   "metadata": {},
   "outputs": [],
   "source": [
    "for tokens in tokenized_texts:\n",
    "    for token in tokens:\n",
    "        counter[token] += 1"
   ]
  },
  {
   "cell_type": "code",
   "execution_count": 26,
   "metadata": {},
   "outputs": [
    {
     "data": {
      "text/plain": [
       "[('chest', 69),\n",
       " ('pneumonia', 58),\n",
       " ('right', 54),\n",
       " ('ap', 48),\n",
       " ('left', 44),\n",
       " ('portable', 39),\n",
       " ('year', 34),\n",
       " ('old', 34),\n",
       " ('lobe', 31),\n",
       " ('date', 30),\n",
       " ('reason', 30),\n",
       " ('underlying_medical_condition', 30),\n",
       " ('reason_for_this_examination', 30),\n",
       " ('final_report', 30),\n",
       " ('impression', 29),\n",
       " ('pleural', 26),\n",
       " ('tube', 26),\n",
       " ('lower', 25),\n",
       " ('normal', 22),\n",
       " ('bilateral', 22),\n",
       " ('pulmonary', 21),\n",
       " ('effusion', 21),\n",
       " ('woman', 19),\n",
       " ('history', 19),\n",
       " ('heart', 19)]"
      ]
     },
     "execution_count": 26,
     "metadata": {},
     "output_type": "execute_result"
    }
   ],
   "source": [
    "srtd_word_counts = sorted(counter.items(), key=lambda x:x[1], reverse=True)\n",
    "srtd_word_counts[:25]"
   ]
  },
  {
   "cell_type": "markdown",
   "metadata": {},
   "source": [
    "One nice way to visualize this is with a wordcloud:"
   ]
  },
  {
   "cell_type": "code",
   "execution_count": 27,
   "metadata": {},
   "outputs": [],
   "source": [
    "from wordcloud import WordCloud"
   ]
  },
  {
   "cell_type": "code",
   "execution_count": 28,
   "metadata": {},
   "outputs": [
    {
     "data": {
      "text/plain": [
       "<wordcloud.wordcloud.WordCloud at 0x120a68cf8>"
      ]
     },
     "execution_count": 28,
     "metadata": {},
     "output_type": "execute_result"
    }
   ],
   "source": [
    "wordcloud = WordCloud()\n",
    "wordcloud.generate_from_frequencies(counter)"
   ]
  },
  {
   "cell_type": "code",
   "execution_count": 29,
   "metadata": {},
   "outputs": [
    {
     "data": {
      "image/png": "[encoded data removed]",
      "text/plain": [
       "<Figure size 432x288 with 1 Axes>"
      ]
     },
     "metadata": {
      "needs_background": "light"
     },
     "output_type": "display_data"
    }
   ],
   "source": [
    "plt.imshow(wordcloud, interpolation='bilinear')\n",
    "plt.axis(\"off\")\n",
    "plt.show()"
   ]
  },
  {
   "cell_type": "code",
   "execution_count": null,
   "metadata": {},
   "outputs": [],
   "source": []
  },
  {
   "cell_type": "markdown",
   "metadata": {},
   "source": [
    "# Word2Vec\n",
    "Now, let's get into something a little more sophisticated. In the steps above, all we did was iterate through the documents and count how many times each word occurred. This gives us a high-level sense of what words are in this vocabulary, but it doesn't tell us anything about the **meaning** or **semantics** of these words.\n",
    "\n",
    "In this next exercise we'll look at how we can use **machine learning** to generate some **semantic meaning** from the text. A method called **word embeddings** transforms words, which by default have no computational or semantic meaning, into vectors which contain some representation of what the words meaning. We won't go into the details here, but a quick summary is that we look at the **context** of word - the words nearby a target word - to estimate what it means. Words which occur in similar contexts probably mean similar things. \n",
    "\n",
    "For example, consider these 3 sentences:\n",
    "- \"I have a **dog** for a pet\"\n",
    "- \"I have a **cat** for a pet\"\n",
    "- \"I have a **fish** for a pet\"\n",
    "\n",
    "Since the context around \"dog\", \"cat\", and \"fish\" is very similar, they are probably similar semantically. We translate words into vectors, and words which have similar meanings have vectors. These vectors are called **word embeddings** and we can use them to measure the similarity between different words. If you're interested in learning more, here's a tutorial to get you started with word embeddings: https://towardsdatascience.com/introduction-to-word-embedding-and-word2vec-652d0c2060fa\n",
    "\n",
    "One algorithm for generating word embeddings is called `word2vec`. I pretrained a word2vec model on all of the MIMIC-II radiology reports and saved it as a pickle file. Let's read this model in and do some experiments:"
   ]
  },
  {
   "cell_type": "code",
   "execution_count": 30,
   "metadata": {},
   "outputs": [],
   "source": [
    "import pickle"
   ]
  },
  {
   "cell_type": "code",
   "execution_count": 31,
   "metadata": {},
   "outputs": [
    {
     "name": "stdout",
     "output_type": "stream",
     "text": [
      "./trained_word2vec_py3.pkl\n"
     ]
    }
   ],
   "source": [
    "# Load in the model corresponding to your Python version\n",
    "saved_model_filepath = \"./trained_word2vec_py{}.pkl\".format(sys.version_info[0])\n",
    "print(saved_model_filepath)"
   ]
  },
  {
   "cell_type": "code",
   "execution_count": 33,
   "metadata": {},
   "outputs": [],
   "source": [
    "# Unzip the trained model\n",
    "import zipfile\n",
    "with zipfile.ZipFile(saved_model_filepath+'.zip', 'r') as zip_ref:\n",
    "    zip_ref.extractall('.')"
   ]
  },
  {
   "cell_type": "code",
   "execution_count": 34,
   "metadata": {},
   "outputs": [],
   "source": [
    "with open(saved_model_filepath, 'rb') as f:\n",
    "    model = pickle.load(f)"
   ]
  },
  {
   "cell_type": "code",
   "execution_count": 35,
   "metadata": {},
   "outputs": [
    {
     "data": {
      "text/plain": [
       "<gensim.models.word2vec.Word2Vec at 0x123d6c978>"
      ]
     },
     "execution_count": 35,
     "metadata": {},
     "output_type": "execute_result"
    }
   ],
   "source": [
    "model"
   ]
  },
  {
   "cell_type": "markdown",
   "metadata": {},
   "source": [
    "First, let's pick a target word which will occur in our vocabulary: **\"abdomen\"**. Let's first see what the embedding for \"abdomen\" looks like:"
   ]
  },
  {
   "cell_type": "code",
   "execution_count": 36,
   "metadata": {},
   "outputs": [
    {
     "data": {
      "text/plain": [
       "array([-1.4888372e+00, -4.6089082e+00,  2.7482133e+00,  4.5480604e+00,\n",
       "        6.5165091e+00,  6.8177408e-01, -7.3125161e-02, -1.7158018e-01,\n",
       "        2.2183628e-01, -2.4804507e-01, -3.1339049e+00,  2.8161979e+00,\n",
       "       -4.3838806e+00,  1.3561876e+00, -1.3171407e+00,  1.3502079e+00,\n",
       "        2.4920027e+00, -6.5546697e-01,  1.0658654e+00,  3.4801486e-01,\n",
       "       -1.3035367e+00,  1.2809013e+00, -4.0870538e-01, -3.6482475e+00,\n",
       "       -3.8542290e+00,  9.8649848e-01,  3.5364735e+00,  3.6175384e-03,\n",
       "        8.9614350e-01,  2.3398960e+00,  2.2755420e+00, -1.5685050e+00,\n",
       "        2.4615960e+00,  2.7287574e+00, -2.8135452e+00, -6.1254710e-01,\n",
       "       -2.6881001e+00, -1.6165260e+00,  1.9363427e+00, -1.7158920e+00,\n",
       "       -2.3775711e+00, -3.9236513e-01,  5.9187371e-01, -2.2356038e+00,\n",
       "       -8.0398381e-02, -4.1762033e-01,  2.3566065e+00, -2.8308094e+00,\n",
       "        9.3105799e-01, -3.5327404e+00, -2.3993025e+00, -2.6222601e+00,\n",
       "        1.2547103e-01,  3.9256761e+00, -2.0666819e+00,  4.2566839e-01,\n",
       "        4.5900025e+00, -8.9030451e-01, -1.2254378e+00,  1.8713361e+00,\n",
       "       -5.2701020e+00, -1.3006107e+00, -2.0610330e+00,  3.4129912e-01,\n",
       "       -4.0511486e-01,  3.9373586e-01,  2.5467068e-01, -3.3325648e-01,\n",
       "        1.8080260e+00,  7.3382199e-01,  3.6372945e-01,  5.2922606e+00,\n",
       "        9.6205276e-01, -2.9807982e+00, -7.2980011e-01,  2.9780931e+00,\n",
       "       -2.1099956e+00, -2.4009354e+00, -2.9069850e-01,  1.0263779e+00,\n",
       "        7.7409261e-01,  9.4743121e-01, -3.7190976e+00,  9.8262846e-01,\n",
       "       -2.4417892e+00, -4.0857239e+00, -3.4932044e+00, -1.7233946e+00,\n",
       "        1.3442416e+00,  6.9247532e-01,  3.2581768e+00,  5.4668974e-02,\n",
       "        1.9689121e+00, -2.4590299e+00,  6.1595577e-01, -2.1144576e+00,\n",
       "        2.8904612e+00, -1.6489419e+00,  2.1660855e+00, -1.0341324e+00],\n",
       "      dtype=float32)"
      ]
     },
     "execution_count": 36,
     "metadata": {},
     "output_type": "execute_result"
    }
   ],
   "source": [
    "model.wv['abdomen']"
   ]
  },
  {
   "cell_type": "markdown",
   "metadata": {},
   "source": [
    "Now, let's take two other words: \"thorax\" and \"radiograph\". Which do you think is more similar to abdomen?"
   ]
  },
  {
   "cell_type": "code",
   "execution_count": 37,
   "metadata": {},
   "outputs": [
    {
     "name": "stdout",
     "output_type": "stream",
     "text": [
      "Similarity between 'abdomen' and 'thorax': 0.5361971\n"
     ]
    }
   ],
   "source": [
    "print(\"Similarity between 'abdomen' and 'thorax':\", model.wv.similarity('abdomen', 'thorax'))"
   ]
  },
  {
   "cell_type": "code",
   "execution_count": 38,
   "metadata": {},
   "outputs": [
    {
     "name": "stdout",
     "output_type": "stream",
     "text": [
      "Similarity between 'abdomen' and 'radiograph': 0.135372\n"
     ]
    }
   ],
   "source": [
    "print(\"Similarity between 'abdomen' and 'radiograph':\", model.wv.similarity('abdomen', 'radiograph'))"
   ]
  },
  {
   "cell_type": "markdown",
   "metadata": {},
   "source": [
    "Let's find what terms our model thinks are most similar to \"abdomen\":"
   ]
  },
  {
   "cell_type": "code",
   "execution_count": 39,
   "metadata": {},
   "outputs": [
    {
     "name": "stderr",
     "output_type": "stream",
     "text": [
      "/Users/alec/anaconda/envs/uvu/lib/python3.7/site-packages/ipykernel_launcher.py:1: DeprecationWarning: Call to deprecated `most_similar` (Method will be removed in 4.0.0, use self.wv.most_similar() instead).\n",
      "  \"\"\"Entry point for launching an IPython kernel.\n"
     ]
    },
    {
     "data": {
      "text/plain": [
       "[('thorax', 0.5361971855163574),\n",
       " ('cervical_spine', 0.4499072730541229),\n",
       " ('thoracic_spine', 0.44829022884368896),\n",
       " ('poles_kidneys', 0.44651567935943604),\n",
       " ('bladder', 0.4408397376537323),\n",
       " ('mri_chest/mediastinum', 0.4390665292739868),\n",
       " ('abdominal', 0.4375646710395813),\n",
       " ('urinary_bladder', 0.4367954134941101),\n",
       " ('extremity_fluoro', 0.42689043283462524),\n",
       " ('gallbladder_overly', 0.42683959007263184)]"
      ]
     },
     "execution_count": 39,
     "metadata": {},
     "output_type": "execute_result"
    }
   ],
   "source": [
    "model.most_similar(['abdomen'], topn=10)"
   ]
  },
  {
   "cell_type": "markdown",
   "metadata": {},
   "source": [
    "Pretty cool! This is an example of how machine learning can be used to derive insights from raw data. It also shows how we can transform raw text, which lacks any defined structure or semantics, and generate some meaning out of it. \n",
    "\n",
    "### TODO\n",
    "**Vocabulary expansion**\n",
    "Let's look at two concept classes: *medications* and *diagnoses*. Let's say that we know 1-2 words for each class, but we want to come up with a more complete list. Rather than asking a physician to list all of the medications and diseases that they know, can we use word embeddings to find similar words?\n",
    "\n",
    "Below I've given seed words for each class. Go through the suggestions from word2vec and see how many of each class you can identify using similarity metrics with word2vec. Note that you can give the model a list of words and it will find words which are similar to all of the words in that list, which can help guide your model to find the most similar terms. \n",
    "\n",
    "As you're doing this, consider what kinds of words are being returned. Are they similar to the seed words you're starting with? How are they related? Try doing some other classes as well.\n",
    "\n",
    "You can google abbreviations or words you don't know to see what they mean."
   ]
  },
  {
   "cell_type": "code",
   "execution_count": 40,
   "metadata": {},
   "outputs": [
    {
     "data": {
      "text/plain": [
       "[('pna', 0.8330938816070557),\n",
       " ('infiltrate', 0.7877413034439087),\n",
       " ('ards', 0.7601028680801392),\n",
       " ('multifocal_pneumonia', 0.7318789958953857),\n",
       " ('pnuemonia', 0.7202246189117432),\n",
       " ('aspiration_event', 0.6944893002510071),\n",
       " ('infectious_process', 0.6691655516624451),\n",
       " ('chf', 0.6671891212463379),\n",
       " ('boop', 0.6598221659660339),\n",
       " ('infiltrates', 0.6587019562721252),\n",
       " ('volume_overload', 0.6577955484390259),\n",
       " ('fluid_overload', 0.6555225849151611),\n",
       " ('multilobar_pneumonia', 0.650320291519165),\n",
       " ('aspiration_pneumonitis', 0.6363518238067627),\n",
       " ('infection', 0.6329853534698486),\n",
       " ('developing_pneumonia', 0.6325757503509521),\n",
       " ('respiratory_failure', 0.6204293966293335),\n",
       " ('aspiration', 0.615002453327179),\n",
       " ('pneumonitis', 0.6115496754646301),\n",
       " ('copd_exacerbation', 0.6089029908180237)]"
      ]
     },
     "execution_count": 40,
     "metadata": {},
     "output_type": "execute_result"
    }
   ],
   "source": [
    "# Diagnoses\n",
    "model.wv.most_similar(['pneumonia'], topn=20)"
   ]
  },
  {
   "cell_type": "code",
   "execution_count": 41,
   "metadata": {},
   "outputs": [
    {
     "data": {
      "text/plain": [
       "[('hit', 0.7129923105239868),\n",
       " ('unresponsive', 0.7057114243507385),\n",
       " ('anticoagulation', 0.6806726455688477),\n",
       " ('receiving', 0.6377615332603455),\n",
       " ('wednesday', 0.6284890174865723),\n",
       " ('nh', 0.6282415390014648),\n",
       " ('ed', 0.6245849132537842),\n",
       " ('inr', 0.6232371926307678),\n",
       " ('presented', 0.6231741905212402),\n",
       " ('supratherapeutic', 0.6203539371490479),\n",
       " ('vancomycin', 0.6169470548629761),\n",
       " ('plavix', 0.6145415306091309),\n",
       " ('seizure_disorder', 0.6111968755722046),\n",
       " ('started', 0.6111108660697937),\n",
       " ('aphasia', 0.6077932119369507),\n",
       " ('r-mca_stroke', 0.6068689823150635),\n",
       " ('lovenox', 0.6046121120452881),\n",
       " ('sudden_onset', 0.6030755639076233),\n",
       " ('falling', 0.602081298828125),\n",
       " ('getting', 0.6019619703292847)]"
      ]
     },
     "execution_count": 41,
     "metadata": {},
     "output_type": "execute_result"
    }
   ],
   "source": [
    "# Medications\n",
    "model.wv.most_similar(['heparin', 'coumadin'], topn=20)"
   ]
  },
  {
   "cell_type": "code",
   "execution_count": null,
   "metadata": {},
   "outputs": [],
   "source": []
  }
 ],
 "metadata": {
  "kernelspec": {
   "display_name": "Python 3",
   "language": "python",
   "name": "python3"
  }
 },
 "nbformat": 4,
 "nbformat_minor": 2
}
