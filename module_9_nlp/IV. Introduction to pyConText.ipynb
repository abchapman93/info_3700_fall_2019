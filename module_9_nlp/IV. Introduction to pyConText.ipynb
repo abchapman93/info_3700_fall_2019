{
 "cells": [
  {
   "cell_type": "markdown",
   "metadata": {},
   "source": [
    "# Overview\n",
    "* Introduction to pyConText\n",
    "* Understand and develop Targets\n",
    "* Understand and develop Modifiers\n",
    "* Graph and visualize Targets and Modifiers together"
   ]
  },
  {
   "cell_type": "code",
   "execution_count": null,
   "metadata": {},
   "outputs": [],
   "source": [
    "import os\n",
    "import re\n",
    "\n",
    "import pyConTextNLP\n",
    "# import pyConTextNLP.pyConText as pyConText\n",
    "from pyConTextNLP import pyConTextGraph\n",
    "from pyConTextNLP import itemData\n",
    "from pyConTextNLP.display.html import mark_document_with_html\n",
    "\n",
    "\n",
    "import urllib\n",
    "import pandas as pd\n",
    "\n",
    "# packages for interaction\n",
    "from IPython.html.widgets import interact, interactive, fixed\n",
    "from IPython.display import display, HTML, Image\n",
    "import ipywidgets\n",
    "\n",
    "# and also our utilities for this class\n",
    "from nlp_pneumonia_utils import *\n",
    "from text_processing import tokenize_sents\n",
    "\n",
    "print('Imported pneumonia nlp utilities...')"
   ]
  },
  {
   "cell_type": "code",
   "execution_count": null,
   "metadata": {},
   "outputs": [],
   "source": [
    "# let us set up an example document to work with\n",
    "example_document = \"\"\"\n",
    "PORTABLE CHEST:  Comparison made to prior film from X:XX a.m. the same day.\n",
    "     \n",
    "The ET tube and nasogastric tube remain in good position. Cardiac and\n",
    "mediastinal contours are stable. No acute changes are seen within the lung\n",
    "parenchyma; specifically, there is no evidence of new infiltrate (skin folds\n",
    "do project over the right lung). No consolidation on either side.\n",
    "\n",
    "IMPRESSION: No evidence of pneumonia.\"\"\"\n",
    "\n",
    "example_sentence = \"\"\"IMPRESSION: No evidence of pneumonia.\"\"\""
   ]
  },
  {
   "cell_type": "markdown",
   "metadata": {},
   "source": [
    "# I. Extracting mentions of pneumonia with pyConText"
   ]
  },
  {
   "cell_type": "markdown",
   "metadata": {},
   "source": [
    "**pyConText** is an open-source Python library for extracting concepts from clinical text and asserting whether those concepts actually exist. For example, given the sentence below, we would want to extract the span of text **\"pneumonia\"**:"
   ]
  },
  {
   "cell_type": "code",
   "execution_count": null,
   "metadata": {},
   "outputs": [],
   "source": [
    "example_sentence = \"There is clear evidence of pneumonia.\""
   ]
  },
  {
   "cell_type": "markdown",
   "metadata": {},
   "source": [
    "We start by defining our **targets**: these are the strings which represent the concepts we want to extract. To handle this example sentence, the only target we need is the word *\"pneumonia\"*.\n",
    "\n",
    "A target in pyConText is defined an array of 4 elements:\n",
    "1. **Literal**: the exact text of a concept. For example, \"pneumonia\"\n",
    "2. **Category**: the semantic category of a concept. For example, \"Evidence of Pneumonia\"\n",
    "3. **Regular Expression** (opt): a regular expression pattern used to match this target. If none is provided, then pyConText uses the string from *literal*\n",
    "4. **Direction**: We'll cover this a little later\n",
    "\n",
    "So let's now use pyConText to extract \"pneumonia\":"
   ]
  },
  {
   "cell_type": "code",
   "execution_count": null,
   "metadata": {},
   "outputs": [],
   "source": [
    "targets1 = [itemData.contextItem([\"pneumonia\", \"EVIDENCE_OF_PNEUMONIA\", \"\", \"\"])]\n",
    "modifiers1 = [] # This is empty for now, we'll come back to it later"
   ]
  },
  {
   "cell_type": "markdown",
   "metadata": {},
   "source": [
    "Now we create a **markup** item by calling a function `markup_sentence` with our text and the rules we've defined:"
   ]
  },
  {
   "cell_type": "code",
   "execution_count": null,
   "metadata": {},
   "outputs": [],
   "source": [
    "def markup_sentence(s, modifiers, targets, prune_inactive=True, verbose=False):\n",
    "    \"\"\"\n",
    "    \"\"\"\n",
    "    markup = pyConTextGraph.ConTextMarkup()\n",
    "    markup.setRawText(s)\n",
    "    markup.cleanText()\n",
    "    markup.markItems(targets, mode=\"target\")\n",
    "    markup.markItems(modifiers, mode=\"modifier\")\n",
    "    markup.pruneMarks()\n",
    "    markup.dropMarks('Exclusion')\n",
    "    # apply modifiers to any targets within the modifiers scope\n",
    "    markup.applyModifiers()\n",
    "    markup.pruneSelfModifyingRelationships()\n",
    "    if prune_inactive:\n",
    "        markup.dropInactiveModifiers()\n",
    "    return markup"
   ]
  },
  {
   "cell_type": "code",
   "execution_count": null,
   "metadata": {},
   "outputs": [],
   "source": [
    "markup = markup_sentence(example_sentence, modifiers1, targets1)"
   ]
  },
  {
   "cell_type": "markdown",
   "metadata": {},
   "source": [
    "The result is a `ConTextMarkup` which contains the sentence and the findings extracted by our rules. If we display this object we can see the results."
   ]
  },
  {
   "cell_type": "code",
   "execution_count": null,
   "metadata": {},
   "outputs": [],
   "source": [
    "type(markup)"
   ]
  },
  {
   "cell_type": "code",
   "execution_count": null,
   "metadata": {},
   "outputs": [],
   "source": [
    "markup"
   ]
  },
  {
   "cell_type": "markdown",
   "metadata": {},
   "source": [
    "A target with the class of **\"evidence_of_pneumonia\"** was matched. So we've now successfully identified evidence of pneumonia from clinical text."
   ]
  },
  {
   "cell_type": "markdown",
   "metadata": {},
   "source": [
    "**Question : Will we find a target match on this sentence below? Will we match \"pneumonias\"?**\n",
    "\n",
    "Remember our lesson regular expressions: rules match *exactly* what they are specified to match."
   ]
  },
  {
   "cell_type": "code",
   "execution_count": null,
   "metadata": {},
   "outputs": [],
   "source": [
    "example_sentence_2 = \"\"\"Findings consistent with CHF, although underlying bilateral lower lobe pneumonias cannot be excluded.\"\"\""
   ]
  },
  {
   "cell_type": "code",
   "execution_count": null,
   "metadata": {},
   "outputs": [],
   "source": [
    "# let's see how things look on this sentence\n",
    "markup_sentence_2 = markup_sentence(example_sentence_2, modifiers1, targets1)\n",
    "markup_sentence_2"
   ]
  },
  {
   "cell_type": "markdown",
   "metadata": {},
   "source": [
    "So let's modify our target so that we can match either \"pneumonia\" or \"pneumonias\"."
   ]
  },
  {
   "cell_type": "code",
   "execution_count": null,
   "metadata": {},
   "outputs": [],
   "source": [
    "targets2 = [\n",
    "    itemData.contextItem([\"\", \"EVIDENCE_OF_PNEUMONIA\", \"pneumonias?\", \"\"]),\n",
    "]\n",
    "modifiers2 = []"
   ]
  },
  {
   "cell_type": "code",
   "execution_count": null,
   "metadata": {},
   "outputs": [],
   "source": [
    "# let's see how things look on this sentence\n",
    "markup_sentence_2 = markup_sentence(example_sentence_2, modifiers2, targets2)\n",
    "display(markup_sentence_2.nodes(data = True))"
   ]
  },
  {
   "cell_type": "code",
   "execution_count": null,
   "metadata": {},
   "outputs": [],
   "source": [
    "markup_sentence_2"
   ]
  },
  {
   "cell_type": "markdown",
   "metadata": {},
   "source": [
    "## Processing multi-sentence documents\n",
    "Now let's go to a new example. When extracting information from clinical text, we typically handle one sentence at a time. In the examples above, we were only looking at single sentences. Let's now extend this to process a document with multiple sentences. To do this, we'll write a function called `markup_context_document` which takes a report text, modifiers, and targets, splits the report up into sentences, and returns a `ConTextDocument` which represents the entire document, not just a single sentence."
   ]
  },
  {
   "cell_type": "code",
   "execution_count": null,
   "metadata": {},
   "outputs": [],
   "source": [
    "def markup_context_document(report_text, modifiers, targets):\n",
    "    context = pyConTextGraph.ConTextDocument()\n",
    "\n",
    "    # Split up into sentences\n",
    "    sentences = tokenize_sents(report_text)\n",
    "    for sentence in sentences:\n",
    "        m = markup_sentence(sentence, modifiers=modifiers, targets=targets)\n",
    "        context.addMarkup(m)\n",
    "    \n",
    "    return context"
   ]
  },
  {
   "cell_type": "code",
   "execution_count": null,
   "metadata": {},
   "outputs": [],
   "source": [
    "example_document = \"\"\"\n",
    "IMPRESSION:\n",
    "Findings consistent with CHF, although underlying bilateral lower lobe pneumonias cannot be excluded.\n",
    "There is a discrete infiltration in the left upper and right lower lung zones. \n",
    "The infiltrate appears consistent with pneumonia.\n",
    "\"\"\""
   ]
  },
  {
   "cell_type": "code",
   "execution_count": null,
   "metadata": {},
   "outputs": [],
   "source": [
    "clearPyConTextRegularExpressions()"
   ]
  },
  {
   "cell_type": "code",
   "execution_count": null,
   "metadata": {},
   "outputs": [],
   "source": [
    "targets3 = [\n",
    "    itemData.contextItem([\"pneumonia\", \"EVIDENCE_OF_PNEUMONIA\", \"pneumonias?\", \"\"]),\n",
    "    itemData.contextItem([\"infiltrate\", \"EVIDENCE_OF_PNEUMONIA\", \"infiltrate\", \"\"]),\n",
    "]\n",
    "\n",
    "modifiers3 = []"
   ]
  },
  {
   "cell_type": "code",
   "execution_count": null,
   "metadata": {},
   "outputs": [],
   "source": [
    "context = markup_context_document(example_document, modifiers3, targets3)"
   ]
  },
  {
   "cell_type": "code",
   "execution_count": null,
   "metadata": {},
   "outputs": [],
   "source": [
    "type(context)"
   ]
  },
  {
   "cell_type": "markdown",
   "metadata": {},
   "source": [
    "Let's look at our marked up document. We can view it in a view different ways:\n",
    "- See the document graph, which will look like the markups above\n",
    "- View an XML, which is a common structured data format and could be used to save processed documents\n",
    "- Use HTML to visualize the marked up document"
   ]
  },
  {
   "cell_type": "code",
   "execution_count": null,
   "metadata": {},
   "outputs": [],
   "source": [
    "context.getDocumentGraph()"
   ]
  },
  {
   "cell_type": "code",
   "execution_count": null,
   "metadata": {},
   "outputs": [],
   "source": [
    "print(context.getXML())"
   ]
  },
  {
   "cell_type": "code",
   "execution_count": null,
   "metadata": {},
   "outputs": [],
   "source": [
    "evidence_only_colors = {\n",
    "    \"evidence_of_pneumonia\": \"orange\"\n",
    "}\n",
    "\n",
    "context_html = mark_document_with_html(context, colors = evidence_only_colors, default_color=\"black\")\n",
    "display(HTML(context_html))"
   ]
  },
  {
   "cell_type": "markdown",
   "metadata": {},
   "source": [
    "# Reading in a Knowledge Base\n",
    "The targets which we defined above are what we call a **\"knowledge base\"** - they define the concepts we're interested in and the rules used to extract them.\n",
    "\n",
    "When it's just a few rules, we can type them directly in our code. However, knowledge bases will often be much, much bigger and we will want to save them separate from our code.\n",
    "\n",
    "pyConText lets us save a knowledge base as a **tab-separated (tsv)** file. In this exercise, we've saved a file at *KB/pneumonia_targets.tsv*. Let's read it in using Pandas:\\ a file."
   ]
  },
  {
   "cell_type": "code",
   "execution_count": null,
   "metadata": {},
   "outputs": [],
   "source": [
    "pneumonia_targets_file = 'KB/pneumonia_targets.tsv'\n",
    "\n",
    "# let's see what we're working with by loading this as a Pandas DataFrame and then we can display it\n",
    "pneumonia_targets_df = pd.read_csv(pneumonia_targets_file, delimiter = '\\t')\n",
    "pneumonia_targets_df"
   ]
  },
  {
   "cell_type": "code",
   "execution_count": null,
   "metadata": {},
   "outputs": [],
   "source": [
    "# before we continue, let's clear a mapping of compiled regular expressions which pyConText uses\n",
    "clearPyConTextRegularExpressions()"
   ]
  },
  {
   "cell_type": "code",
   "execution_count": null,
   "metadata": {},
   "outputs": [],
   "source": [
    "# Our first attempt was very simple target, so now let's add some additional concepts\n",
    "targets2 = []\n",
    "modifiers2 = []\n",
    "\n",
    "\n",
    "clearPyConTextRegularExpressions()\n",
    "full_targets_path = 'file:///' + os.path.join(os.getcwd(), pneumonia_targets_file)\n",
    "print('Loading pneumonia targets from : ' + full_targets_path)\n",
    "targets2 = pyConTextNLP.itemData.instantiateFromCSVtoitemData(full_targets_path)"
   ]
  },
  {
   "cell_type": "code",
   "execution_count": null,
   "metadata": {},
   "outputs": [],
   "source": [
    "targets2"
   ]
  },
  {
   "cell_type": "markdown",
   "metadata": {},
   "source": [
    "Now let's re-process the example report with our new rules:"
   ]
  },
  {
   "cell_type": "code",
   "execution_count": null,
   "metadata": {},
   "outputs": [],
   "source": [
    "context = markup_context_document(example_document, modifiers2, targets2)"
   ]
  },
  {
   "cell_type": "code",
   "execution_count": null,
   "metadata": {},
   "outputs": [],
   "source": [
    "context.getDocumentGraph()"
   ]
  },
  {
   "cell_type": "code",
   "execution_count": null,
   "metadata": {},
   "outputs": [],
   "source": [
    "context_html = mark_document_with_html(context, colors = evidence_only_colors, default_color=\"black\")\n",
    "display(HTML(context_html))"
   ]
  },
  {
   "cell_type": "code",
   "execution_count": null,
   "metadata": {},
   "outputs": [],
   "source": []
  },
  {
   "cell_type": "markdown",
   "metadata": {},
   "source": [
    "# Modifiers\n",
    "We can now identify mentions of pneumonia in text. However, just finding those concepts is often not enough.\n",
    "\n",
    "As an example, suppose a doctor suspects a patient has pneumonia but is not sure. They would order a CT of the lungs to check for pneumonia. To document that the purpose of the scan is to check for pneumonia, the report might say:\n",
    "\n",
    "\n",
    "---\n",
    "<p style=\"text-align: center;\"><strong>Indication:</strong> Pneumonia</p>\n",
    "\n",
    "---\n",
    "\n",
    "After examing the scan, the radiologist might determine that the scan does not show pneumonia:\n",
    "\n",
    "---\n",
    "<p style=\"text-align: center;\">\n",
    "    <strong>Indication:</strong> Pneumonia<br>\n",
    "    <strong>Impression:</strong> No evidence of pneumonia.\n",
    "</p>\n",
    "\n",
    "---\n",
    "\n",
    "If we process this document with our current rules, here's what we extract:"
   ]
  },
  {
   "cell_type": "code",
   "execution_count": null,
   "metadata": {},
   "outputs": [],
   "source": [
    "example_document = \"\"\"\n",
    "Indication: Pneumonia.\n",
    "Impression: No evidence of pneumonia.\n",
    "\"\"\""
   ]
  },
  {
   "cell_type": "code",
   "execution_count": null,
   "metadata": {},
   "outputs": [],
   "source": [
    "context = markup_context_document(example_document, modifiers3, targets3)"
   ]
  },
  {
   "cell_type": "code",
   "execution_count": null,
   "metadata": {},
   "outputs": [],
   "source": [
    "context.getDocumentGraph()"
   ]
  },
  {
   "cell_type": "code",
   "execution_count": null,
   "metadata": {},
   "outputs": [],
   "source": [
    "context_html = mark_document_with_html(context, colors = evidence_only_colors, default_color=\"black\")\n",
    "display(HTML(context_html))"
   ]
  },
  {
   "cell_type": "markdown",
   "metadata": {},
   "source": [
    "Even though the word \"pneumonia\" is mentioned multiple times, the patient does not actually have pneumonia.\n",
    "\n",
    "To handle this, we need to look at the **context** of a concept. This context will include **semantic modifiers** which add meaning to the phrases of our target concepts. For example, the phrases **\"Indication\"** **\"No evidence\"** both tell us that we shouldn't consider the sentence to represent a positive instance of pneumonia."
   ]
  },
  {
   "cell_type": "code",
   "execution_count": null,
   "metadata": {},
   "outputs": [],
   "source": [
    "from IPython.display import Image"
   ]
  },
  {
   "cell_type": "markdown",
   "metadata": {},
   "source": [
    "We also need to look at the **directionality** of a modifier. This is specified by the last element in the rule and can be either \"forward\", \"backward\", or \"bidrectional\". This specifies the syntactic property of how a phrase modifies the word around it. For example, the modifiers \"no evidence of\" and \"Indication\" above both modifier concepts **forward**, but in \"is not seen\" the sentence the modifier looks **backwards**:"
   ]
  },
  {
   "cell_type": "code",
   "execution_count": null,
   "metadata": {},
   "outputs": [],
   "source": [
    "Image('./images/no_evidence_of.png')"
   ]
  },
  {
   "cell_type": "code",
   "execution_count": null,
   "metadata": {},
   "outputs": [],
   "source": [
    "Image('./images/indication.png')"
   ]
  },
  {
   "cell_type": "code",
   "execution_count": null,
   "metadata": {},
   "outputs": [],
   "source": [
    "Image('./images/is_not_seen.png')"
   ]
  },
  {
   "cell_type": "markdown",
   "metadata": {},
   "source": [
    "Just like a target, a modifier rule in pyConText consists of four elements. Instead of \"EVIDENCE_OF_PNEUMONIA\", our classes are now \"INDICATION\" and \"DEFINITE_NEGATED_EXISTENCE\". \n",
    "\n",
    "\n",
    "Let's add these modifiers and add re-process our document:"
   ]
  },
  {
   "cell_type": "code",
   "execution_count": null,
   "metadata": {},
   "outputs": [],
   "source": [
    "clearPyConTextRegularExpressions()"
   ]
  },
  {
   "cell_type": "code",
   "execution_count": null,
   "metadata": {},
   "outputs": [],
   "source": [
    "targets4 = [\n",
    "    itemData.contextItem([\"\", \"EVIDENCE_OF_PNEUMONIA\", \"pneumonias?\", \"\"]),\n",
    "]\n",
    "modifiers4 = [\n",
    "    itemData.contextItem([\"indication\", \"INDICATION\", \"\", \"forward\"]),\n",
    "    itemData.contextItem([\"no evidence of\", \"DEFINITE_NEGATED_EXISTENCE\", \"\", \"forward\"]),\n",
    "    itemData.contextItem([\"not seen\", \"DEFINITE_NEGATED_EXISTENCE\", \"\", \"backward\"]),\n",
    "]"
   ]
  },
  {
   "cell_type": "code",
   "execution_count": null,
   "metadata": {},
   "outputs": [],
   "source": [
    "context = markup_context_document(example_document, modifiers4, targets4)"
   ]
  },
  {
   "cell_type": "markdown",
   "metadata": {},
   "source": [
    "Look at the document graph below. Note that both \"evidence_of_pneumonia\" targets now have a \"----MODIFIED BY\" note. This means that these concepts are being modified by \"Indication\" and \"No evidence of\", which tells us that pneumonia doesn't actually exist in that sentence."
   ]
  },
  {
   "cell_type": "code",
   "execution_count": null,
   "metadata": {},
   "outputs": [],
   "source": [
    "context.getDocumentGraph()"
   ]
  },
  {
   "cell_type": "code",
   "execution_count": null,
   "metadata": {},
   "outputs": [],
   "source": [
    "colors = {\n",
    "    \"evidence_of_pneumonia\": \"orange\",\n",
    "    \"definite_negated_existence\": \"red\",\n",
    "    \"indication\": \"purple\"\n",
    "}\n",
    "\n",
    "context_html = mark_document_with_html(context, colors=colors, default_color=\"black\")\n",
    "display(HTML(context_html))"
   ]
  },
  {
   "cell_type": "code",
   "execution_count": null,
   "metadata": {},
   "outputs": [],
   "source": []
  },
  {
   "cell_type": "markdown",
   "metadata": {},
   "source": [
    "## Read in complete modifiers list\n",
    "\n",
    "Let's now read in a larger list of modifiers which are included in the pyConText package:"
   ]
  },
  {
   "cell_type": "code",
   "execution_count": null,
   "metadata": {},
   "outputs": [],
   "source": [
    "modifier_file_path = 'file:///' + os.path.join(os.getcwd(), \"KB/pneumonia_modifiers.tsv\")\n",
    "modifier_file = urllib.request.urlopen(modifier_file_path, data=None)\n",
    "# now let's load this in directly into a DataFrame with Pandas and take a look at it\n",
    "modifier_df = pd.read_csv(modifier_file, delimiter = \"\\t\")\n",
    "display(modifier_df.head(5))\n",
    "display(modifier_df.tail(5))"
   ]
  },
  {
   "cell_type": "markdown",
   "metadata": {},
   "source": [
    "Let's look at all the different types of modifiers:"
   ]
  },
  {
   "cell_type": "code",
   "execution_count": null,
   "metadata": {},
   "outputs": [],
   "source": [
    "modifier_df['Type'].value_counts()"
   ]
  },
  {
   "cell_type": "code",
   "execution_count": null,
   "metadata": {},
   "outputs": [],
   "source": [
    "modifier_df['Direction'].value_counts()"
   ]
  },
  {
   "cell_type": "code",
   "execution_count": null,
   "metadata": {},
   "outputs": [],
   "source": [
    "# let us set up an example document to work with\n",
    "negative_document = \"\"\"\n",
    "PORTABLE CHEST:  Comparison made to prior film from X:XX a.m. the same day.\n",
    "     \n",
    "The ET tube and nasogastric tube remain in good position. Cardiac and\n",
    "mediastinal contours are stable. No acute changes are seen within the lung\n",
    "parenchyma; specifically, there is no evidence of new infiltrate (skin folds\n",
    "do project over the right lung). No consolidation on either side.\n",
    "\n",
    "IMPRESSION: No evidence of pneumonia.\"\"\""
   ]
  },
  {
   "cell_type": "code",
   "execution_count": null,
   "metadata": {},
   "outputs": [],
   "source": [
    "# And a positive one to compare with\n",
    "positive_document = \"\"\"\n",
    "SINGLE VIEW CHEST, AP: There has been interval opacification within the left\n",
    "lower lobe consistent with consolidation. The pulmonary vasculature is within\n",
    "normal limits. The cardiac, mediastinal and hilar contours are unchanged with\n",
    "unfolding of the aorta and wall calcifications. There may be a left-sided\n",
    "pleural effusion also.\n",
    "\n",
    "IMPRESSION: Left lower lobe pneumonia.\n",
    "\"\"\""
   ]
  },
  {
   "cell_type": "code",
   "execution_count": null,
   "metadata": {},
   "outputs": [],
   "source": [
    "full_targets_path = 'file:///' + os.path.join(os.getcwd(), pneumonia_targets_file)\n",
    "modifier_file_path = 'file:///' + os.path.join(os.getcwd(), \"KB/pneumonia_modifiers.tsv\")\n",
    "\n",
    "targets = pyConTextNLP.itemData.instantiateFromCSVtoitemData(full_targets_path)\n",
    "modifiers = pyConTextNLP.itemData.instantiateFromCSVtoitemData(modifier_file_path)"
   ]
  },
  {
   "cell_type": "code",
   "execution_count": null,
   "metadata": {},
   "outputs": [],
   "source": [
    "# prepare some colors for displaying any markup we might see\n",
    "colors = {\n",
    "    \"evidence_of_pneumonia\": \"orange\",\n",
    "    \"definite_negated_existence\": \"red\",\n",
    "    \"probable_negated_existence\": \"indianred\",\n",
    "    \"ambivalent_existence\": \"orange\",\n",
    "    \"probable_existence\": \"forestgreen\",\n",
    "    \"definite_existence\": \"green\",\n",
    "    \"historical\": \"goldenrod\",\n",
    "    \"indication\": \"pink\",\n",
    "    \"acute\": \"golden\"\n",
    "}\n",
    "\n",
    "# let's mark up a new context object for our pipeline#3\n",
    "context = markup_context_document(negative_document, modifiers, targets)\n",
    "\n",
    "display(HTML(mark_document_with_html(context, colors = colors, default_color=\"black\")))"
   ]
  },
  {
   "cell_type": "code",
   "execution_count": null,
   "metadata": {},
   "outputs": [],
   "source": []
  },
  {
   "cell_type": "markdown",
   "metadata": {},
   "source": [
    "# Document Inference\n",
    "We can now extract mentions of pneumonia and identify contextual modifiers. Next, we want to roll this up to a document level. Based on the concepts found in the text, is the overall document **positive** or **negative** for pneumonia?\n",
    "\n",
    "Here is the logic we will implement:\n",
    "- Define a number of modifier categories which mean that a **phrase** does not actually contain pneumonia\n",
    "- For each evidence of pneumonia found, check if it is modified by these modifiers. If it is, we can ignore it\n",
    "- If at least one evidence of pneumonia does not have any non-positive modifiers, we'll say that this document is \"PNEUMONIA_DOC_YES\"\n",
    "- Otherwise, it will be \"PNEUMONIA_DOC_NO\"\n",
    "\n",
    "We'll wrap this logic up in a function and use it to classify our documents. We'll print out some information along the way to show what logic is being implemented."
   ]
  },
  {
   "cell_type": "code",
   "execution_count": null,
   "metadata": {},
   "outputs": [],
   "source": [
    "non_positive_categories = [\"definite_negated_existence\",\n",
    "                 \"probable_negated_existence\",\n",
    "                 \"probable_existence\",\n",
    "                \"indication\"\n",
    "                 ]"
   ]
  },
  {
   "cell_type": "code",
   "execution_count": null,
   "metadata": {},
   "outputs": [],
   "source": [
    "def classify_pneumonia_document(report_text, modifiers, targets, verbose=0):\n",
    "    context = markup_context_document(report_text, modifiers, targets)\n",
    "    num_positive = 0\n",
    "    graph = context.getDocumentGraph()\n",
    "    for target in graph.getMarkedTargets():\n",
    "        modified_by_non_positive = False\n",
    "        for modifier in graph.getModifiers(target):\n",
    "            if modifier.getCategory()[0] in non_positive_categories:\n",
    "                if verbose:\n",
    "                    print(\"--'{0}' modified by '{1}' - not positive evidence\".format(target.getPhrase().upper(), \n",
    "                                                                               modifier.getPhrase().upper()))\n",
    "                modified_by_non_positive = True\n",
    "        if modified_by_non_positive is False:\n",
    "            num_positive += 1\n",
    "            if verbose:\n",
    "                print(\"--'{0}' not modified by non-positive modifiers: setting num_positive = {1}\".format(target.getPhrase().upper(),\n",
    "                                                                                         num_positive))\n",
    "    if num_positive > 0:\n",
    "        if verbose:\n",
    "            print(\"Positive Document\")\n",
    "        return 1 # Positive\n",
    "    else: \n",
    "        if verbose:\n",
    "            print(\"Negative Document\")\n",
    "        return 0"
   ]
  },
  {
   "cell_type": "markdown",
   "metadata": {},
   "source": [
    "### Negative document"
   ]
  },
  {
   "cell_type": "code",
   "execution_count": null,
   "metadata": {},
   "outputs": [],
   "source": [
    "# This should return '0'\n",
    "classify_pneumonia_document(negative_document, modifiers, targets, verbose=1)"
   ]
  },
  {
   "cell_type": "code",
   "execution_count": null,
   "metadata": {},
   "outputs": [],
   "source": [
    "context = markup_context_document(negative_document, modifiers, targets)\n",
    "display(HTML(mark_document_with_html(context, colors = colors, default_color=\"black\")))"
   ]
  },
  {
   "cell_type": "markdown",
   "metadata": {},
   "source": [
    "### Positive document"
   ]
  },
  {
   "cell_type": "code",
   "execution_count": null,
   "metadata": {},
   "outputs": [],
   "source": [
    "# This should return '1'\n",
    "classify_pneumonia_document(positive_document, modifiers, targets, verbose=1)"
   ]
  },
  {
   "cell_type": "code",
   "execution_count": null,
   "metadata": {},
   "outputs": [],
   "source": [
    "context = markup_context_document(positive_document, modifiers, targets)\n",
    "display(HTML(mark_document_with_html(context, colors = colors, default_color=\"black\")))"
   ]
  },
  {
   "cell_type": "code",
   "execution_count": null,
   "metadata": {},
   "outputs": [],
   "source": []
  }
 ],
 "metadata": {
  "kernelspec": {
   "display_name": "Python 3",
   "language": "python",
   "name": "python3"
  },
  "language_info": {
   "codemirror_mode": {
    "name": "ipython",
    "version": 3
   },
   "file_extension": ".py",
   "mimetype": "text/x-python",
   "name": "python",
   "nbconvert_exporter": "python",
   "pygments_lexer": "ipython3",
   "version": "3.6.0"
  }
 },
 "nbformat": 4,
 "nbformat_minor": 1
}
