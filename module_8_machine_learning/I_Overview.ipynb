{
 "cells": [
  {
   "cell_type": "code",
   "execution_count": 2,
   "metadata": {},
   "outputs": [],
   "source": [
    "import os\n",
    "import pandas as pd"
   ]
  },
  {
   "cell_type": "markdown",
   "metadata": {},
   "source": [
    "# I. Overview of Machine Learning\n",
    "## Scenario\n",
    "In this module, we'll build a classifier to predict whether or not a patient has diabetes.\n",
    "\n",
    "Let's say that you're assigned the task of determining whether a set of 100 patients has diabetes. You don't get to meet with the patient or run any tests. All that you're given is some information that was collected for each of them, such as how many pregnancies they've had and what their current glucose levels are.\n",
    "\n",
    "**Option 1**\n",
    "\n",
    "If you're a clinician and an expert in diabetes, this information might be enough for you to make your decisions. You might follow existing guidelines, such as these provided by the [National Diabetes Education Initiative](http://www.ndei.org/ADA-diabetes-management-guidelines-diagnosis-A1C-testing.aspx.html). For each patient, you consult the guidelines and make a decision of whether they **have diabetes** or **do not have diabetes**.\n",
    "\n",
    "**Option 2**\n",
    "\n",
    "However, maybe the information that you've been provided isn't detailed or relevant enough. Or maybe you don't have the medical knowledge to make such a complex decision. In that case, an alternative approach could be to compare the patients you've been asked to classify to other similar patients who have already been diagnosed. You ask your data warehouse managers to retrieve the 8 columns of information for 900 other patients in the same population, plus whether or not they had diabetes. Now, you can see what kind of patterns occur in patients who have diabetes and those who do not, and you can use those patterns to make decisions about whether these new patients have diabetes.\n",
    "\n",
    "Machine learning uses this second option to make decisions. A **classifier** is an algorithm that takes data as input and learns how to make decisions based on that data. In our case, our classifier will decide whether a patient has diabetes.\n",
    "\n",
    "## Definitions\n",
    "- **Task** - what we want our classifier to do. We want our classifier to predict if a patient is **positive** or **negative** for diabetes\n",
    "- **Model/Classifier** - this is the algorithm that we will use to make predictions\n",
    "- **Training Data** - the data that we provide our algorithm to learn patterns. In our scenario, the training data is the information for the 900 patients who have already been diagnosed with diabetes or been determined to not have diabetes\n",
    "- **Features** - the information that is collected for each patient in the dataset, such as number of pregnancies and glucose levels\n",
    "- **Label/Outcome** - a classification for each patient in the training data. For example, if a patient has a diabetes, then we might put a \"1\" in the outcome column, and if they don't we might put a \"0\"\n",
    "- **Training** - how our model learns to make predictions\n",
    "- **Evaluation** - once "
   ]
  },
  {
   "cell_type": "markdown",
   "metadata": {},
   "source": [
    "# Our Dataset\n",
    "We will use the [Pima Indians Diabetes Dataset](https://www.kaggle.com/uciml/pima-indians-diabetes-database/home), which can be downloaded from Kaggle. This dataset was originally created by the National Institute of Diabetes and Digestive and Kidney Diseases and contains data for a number of patients. Each patient is a female at least 21 years old of [Pima Indian heritage](https://en.wikipedia.org/wiki/Pima_people).\n",
    "\n",
    "## What's in the Data?\n",
    "Let's take a look at our dataset. We'll read in the data from a comma-separated file and look at it as a table where each row represents a different patient:"
   ]
  },
  {
   "cell_type": "code",
   "execution_count": 3,
   "metadata": {},
   "outputs": [],
   "source": [
    "df = pd.read_csv('diabetes.csv')"
   ]
  },
  {
   "cell_type": "code",
   "execution_count": 4,
   "metadata": {},
   "outputs": [
    {
     "data": {
      "text/html": [
       "<div>\n",
       "<style scoped>\n",
       "    .dataframe tbody tr th:only-of-type {\n",
       "        vertical-align: middle;\n",
       "    }\n",
       "\n",
       "    .dataframe tbody tr th {\n",
       "        vertical-align: top;\n",
       "    }\n",
       "\n",
       "    .dataframe thead th {\n",
       "        text-align: right;\n",
       "    }\n",
       "</style>\n",
       "<table border=\"1\" class=\"dataframe\">\n",
       "  <thead>\n",
       "    <tr style=\"text-align: right;\">\n",
       "      <th></th>\n",
       "      <th>Pregnancies</th>\n",
       "      <th>Glucose</th>\n",
       "      <th>BloodPressure</th>\n",
       "      <th>SkinThickness</th>\n",
       "      <th>Insulin</th>\n",
       "      <th>BMI</th>\n",
       "      <th>DiabetesPedigreeFunction</th>\n",
       "      <th>Age</th>\n",
       "      <th>Outcome</th>\n",
       "    </tr>\n",
       "  </thead>\n",
       "  <tbody>\n",
       "    <tr>\n",
       "      <td>0</td>\n",
       "      <td>6</td>\n",
       "      <td>148</td>\n",
       "      <td>72</td>\n",
       "      <td>35</td>\n",
       "      <td>0</td>\n",
       "      <td>33.6</td>\n",
       "      <td>0.627</td>\n",
       "      <td>50</td>\n",
       "      <td>1</td>\n",
       "    </tr>\n",
       "    <tr>\n",
       "      <td>1</td>\n",
       "      <td>1</td>\n",
       "      <td>85</td>\n",
       "      <td>66</td>\n",
       "      <td>29</td>\n",
       "      <td>0</td>\n",
       "      <td>26.6</td>\n",
       "      <td>0.351</td>\n",
       "      <td>31</td>\n",
       "      <td>0</td>\n",
       "    </tr>\n",
       "    <tr>\n",
       "      <td>2</td>\n",
       "      <td>8</td>\n",
       "      <td>183</td>\n",
       "      <td>64</td>\n",
       "      <td>0</td>\n",
       "      <td>0</td>\n",
       "      <td>23.3</td>\n",
       "      <td>0.672</td>\n",
       "      <td>32</td>\n",
       "      <td>1</td>\n",
       "    </tr>\n",
       "    <tr>\n",
       "      <td>3</td>\n",
       "      <td>1</td>\n",
       "      <td>89</td>\n",
       "      <td>66</td>\n",
       "      <td>23</td>\n",
       "      <td>94</td>\n",
       "      <td>28.1</td>\n",
       "      <td>0.167</td>\n",
       "      <td>21</td>\n",
       "      <td>0</td>\n",
       "    </tr>\n",
       "    <tr>\n",
       "      <td>4</td>\n",
       "      <td>0</td>\n",
       "      <td>137</td>\n",
       "      <td>40</td>\n",
       "      <td>35</td>\n",
       "      <td>168</td>\n",
       "      <td>43.1</td>\n",
       "      <td>2.288</td>\n",
       "      <td>33</td>\n",
       "      <td>1</td>\n",
       "    </tr>\n",
       "  </tbody>\n",
       "</table>\n",
       "</div>"
      ],
      "text/plain": [
       "   Pregnancies  Glucose  BloodPressure  SkinThickness  Insulin   BMI  \\\n",
       "0            6      148             72             35        0  33.6   \n",
       "1            1       85             66             29        0  26.6   \n",
       "2            8      183             64              0        0  23.3   \n",
       "3            1       89             66             23       94  28.1   \n",
       "4            0      137             40             35      168  43.1   \n",
       "\n",
       "   DiabetesPedigreeFunction  Age  Outcome  \n",
       "0                     0.627   50        1  \n",
       "1                     0.351   31        0  \n",
       "2                     0.672   32        1  \n",
       "3                     0.167   21        0  \n",
       "4                     2.288   33        1  "
      ]
     },
     "execution_count": 4,
     "metadata": {},
     "output_type": "execute_result"
    }
   ],
   "source": [
    "df.head()"
   ]
  },
  {
   "cell_type": "markdown",
   "metadata": {},
   "source": [
    "### Features\n",
    "The **\"features\"** in a dataset are the information collected for each data point. In this scenario, the features are the 8 types of information collected for each patient.\n",
    "\n",
    "Take a few minutes with your group and look through some of the features. Try to get a sense for what each attribute is measuring. Optionally, do some programmatic analysis to look at the mean, standard deviations, etc.\n",
    "\n",
    "- **Pregnancies**: Number of times pregnant\n",
    "- **Glucose**: Plasma glucose concentration a 2 hours in an oral glucose tolerance test\n",
    "- **BloodPressure**: Diastolic blood pressure (mm Hg)\n",
    "- **SkinThickness**: Triceps skin fold thickness (mm)\n",
    "- **Insulin**: 2-Hour serum insulin (mu U/ml)\n",
    "- **BMI**: Body mass index (weight in kg/(height in m)^2)\n",
    "- **DiabetesPedigreeFunction**: Diabetes pedigree function which considers family history of diabetes\n",
    "- **Age**: Age (years)"
   ]
  },
  {
   "cell_type": "code",
   "execution_count": 5,
   "metadata": {},
   "outputs": [
    {
     "data": {
      "text/plain": [
       "count    768.000000\n",
       "mean       3.845052\n",
       "std        3.369578\n",
       "min        0.000000\n",
       "25%        1.000000\n",
       "50%        3.000000\n",
       "75%        6.000000\n",
       "max       17.000000\n",
       "Name: Pregnancies, dtype: float64"
      ]
     },
     "execution_count": 5,
     "metadata": {},
     "output_type": "execute_result"
    }
   ],
   "source": [
    "# Optional: Do additional analysis\n",
    "df.Pregnancies.describe()"
   ]
  },
  {
   "cell_type": "markdown",
   "metadata": {},
   "source": [
    "### Label\n",
    "The **label** signifies what **class** each row belongs to. A **\"1\"** means that the patient has diabetes (positive class), while a **\"0\"** means that the patient does not have diabetes (negative class). This is contained in the *Outcome* column."
   ]
  },
  {
   "cell_type": "code",
   "execution_count": 6,
   "metadata": {},
   "outputs": [
    {
     "data": {
      "text/plain": [
       "0    500\n",
       "1    268\n",
       "Name: Outcome, dtype: int64"
      ]
     },
     "execution_count": 6,
     "metadata": {},
     "output_type": "execute_result"
    }
   ],
   "source": [
    "df.Outcome.value_counts()"
   ]
  },
  {
   "cell_type": "markdown",
   "metadata": {},
   "source": [
    "# Up Next\n",
    "Next, we'll look more closely at our dataset and analyze our features and class distribution.\n",
    "\n",
    "[II. Data Analysis](./II_DataAnalysis.ipynb)"
   ]
  },
  {
   "cell_type": "code",
   "execution_count": null,
   "metadata": {},
   "outputs": [],
   "source": []
  }
 ],
 "metadata": {
  "kernelspec": {
   "display_name": "Python 3",
   "language": "python",
   "name": "python3"
  },
  "language_info": {
   "codemirror_mode": {
    "name": "ipython",
    "version": 3
   },
   "file_extension": ".py",
   "mimetype": "text/x-python",
   "name": "python",
   "nbconvert_exporter": "python",
   "pygments_lexer": "ipython3",
   "version": "3.7.3"
  }
 },
 "nbformat": 4,
 "nbformat_minor": 2
}
